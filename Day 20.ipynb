{
 "cells": [
  {
   "cell_type": "code",
   "execution_count": 1,
   "metadata": {},
   "outputs": [],
   "source": [
    "from collections import deque"
   ]
  },
  {
   "cell_type": "code",
   "execution_count": 2,
   "metadata": {},
   "outputs": [],
   "source": [
    "def parse_branch(all_doors, line, start_rooms):\n",
    "    rooms = start_rooms.copy()\n",
    "    while line:\n",
    "        char = line.popleft()\n",
    "        if char == 'N':\n",
    "            all_doors |= {((x, y), (x, y+1)) for (x, y) in rooms}\n",
    "            rooms = {(x, y+1) for (x, y) in rooms}\n",
    "        elif char == 'E':\n",
    "            all_doors |= {((x, y), (x+1, y)) for (x, y) in rooms}\n",
    "            rooms = {(x+1, y) for (x, y) in rooms}\n",
    "        elif char == 'W':\n",
    "            all_doors |= {((x, y), (x-1, y)) for (x, y) in rooms}\n",
    "            rooms = {(x-1, y) for (x, y) in rooms}\n",
    "        elif char == 'S':\n",
    "            all_doors |= {((x, y), (x, y-1)) for (x, y) in rooms}\n",
    "            rooms = {(x, y-1) for (x, y) in rooms}\n",
    "        elif char == '(':\n",
    "            rooms = parse_branch(all_doors, line, rooms)\n",
    "        elif char == ')':\n",
    "            return rooms\n",
    "        elif char == '|':\n",
    "            return rooms | parse_branch(all_doors, line, start_rooms)\n",
    "    return rooms\n",
    "\n",
    "def parse_tree(line):\n",
    "    all_doors = set()\n",
    "    start_rooms = {(0, 0)}\n",
    "    parse_branch(all_doors, line, start_rooms)\n",
    "    return all_doors"
   ]
  },
  {
   "cell_type": "code",
   "execution_count": 3,
   "metadata": {},
   "outputs": [],
   "source": [
    "with open(\"Input/20.txt\") as file:\n",
    "    line = deque(file.readline().strip()[1:-2])\n",
    "    all_doors = parse_tree(line)"
   ]
  },
  {
   "cell_type": "code",
   "execution_count": 4,
   "metadata": {},
   "outputs": [],
   "source": [
    "# Simplified Dijkstra (all weights = 1)\n",
    "dijkstra = {(0, 0): 0}\n",
    "current = {(0, 0)}\n",
    "remaining = all_doors.copy()\n",
    "dist = 0\n",
    "while remaining:\n",
    "    dist += 1\n",
    "    nxt = {a for (a, b) in remaining if b in current} | {b for (a, b) in remaining if a in current}\n",
    "    remaining = {(a, b) for (a, b) in remaining if a not in current and b not in current}\n",
    "    current = nxt\n",
    "    for (x, y) in current:\n",
    "        dijkstra[(x, y)] = dist"
   ]
  },
  {
   "cell_type": "code",
   "execution_count": 5,
   "metadata": {},
   "outputs": [
    {
     "name": "stdout",
     "output_type": "stream",
     "text": [
      "Part 1: 3721\n"
     ]
    }
   ],
   "source": [
    "# Part 1\n",
    "print(\"Part 1: {}\".format(max(dijkstra.values())))"
   ]
  },
  {
   "cell_type": "code",
   "execution_count": 6,
   "metadata": {},
   "outputs": [
    {
     "name": "stdout",
     "output_type": "stream",
     "text": [
      "Part 2: 8613\n"
     ]
    }
   ],
   "source": [
    "# Part 2\n",
    "print(\"Part 2: {}\".format(len([x for x in dijkstra.values() if x >= 1000])))"
   ]
  },
  {
   "cell_type": "code",
   "execution_count": null,
   "metadata": {},
   "outputs": [],
   "source": []
  }
 ],
 "metadata": {
  "kernelspec": {
   "display_name": "Python 3",
   "language": "python",
   "name": "python3"
  },
  "language_info": {
   "codemirror_mode": {
    "name": "ipython",
    "version": 3
   },
   "file_extension": ".py",
   "mimetype": "text/x-python",
   "name": "python",
   "nbconvert_exporter": "python",
   "pygments_lexer": "ipython3",
   "version": "3.6.7"
  }
 },
 "nbformat": 4,
 "nbformat_minor": 2
}
