{
 "cells": [
  {
   "cell_type": "code",
   "execution_count": 1,
   "metadata": {},
   "outputs": [],
   "source": [
    "import re\n",
    "\n",
    "parser_group = re.compile(r\"(\\d+) units each with (\\d+) hit points (|\\((?:.+)\\) )with an attack that does (\\d+) (\\w+) damage at initiative (\\d+)\")\n",
    "parser_team = re.compile(r\"(?:Immune System|Infection):\")\n",
    "parser_weakness = re.compile(r\"weak to (\\w+(?:, \\w+)*)\")\n",
    "parser_immunities = re.compile(r\"immune to (\\w+(?:, \\w+)*)\")\n",
    "\n",
    "class Group:\n",
    "    def __init__(self, group_id, team, units, hp, weaknesses, immunities, damage, damage_type, initiative):\n",
    "        self.group_id = group_id\n",
    "        self.team = team\n",
    "        self.units = units\n",
    "        self.hp = hp\n",
    "        self.weaknesses = weaknesses\n",
    "        self.immunities = immunities\n",
    "        self.damage = damage\n",
    "        self.damage_type = damage_type\n",
    "        self.initiative = initiative\n",
    "        \n",
    "    def effective_power(self):\n",
    "        return self.units * self.damage\n",
    "    \n",
    "    def targeting_order_key(self):\n",
    "        return (self.effective_power(), self.initiative)\n",
    "    \n",
    "    def attacking_order_key(self):\n",
    "        return self.initiative\n",
    "    \n",
    "    def __str__(self):\n",
    "        result = \"{} units each with {} hit points\".format(self.units, self.hp)\n",
    "        if self.weaknesses or self.immunities:\n",
    "            result += \" (\"\n",
    "        if self.weaknesses:\n",
    "            result += \"weak to {}\".format(\", \".join(self.weaknesses))\n",
    "            if self.immunities:\n",
    "                result += \"; \"\n",
    "        if self.immunities:\n",
    "            result += \"immune to {}\".format(\", \".join(self.immunities))\n",
    "        if self.weaknesses or self.immunities:\n",
    "            result += \")\"\n",
    "        result += \" with an attack that does {} {} damage at initiative {}\".format(self.damage, self.damage_type, self.initiative)\n",
    "        return result\n",
    "\n",
    "def get_input():\n",
    "    groups = {}\n",
    "    with open(\"Input/24.txt\") as file:\n",
    "        team = -1\n",
    "        for group_id, line in enumerate(file):\n",
    "            if parser_team.match(line):\n",
    "                team += 1\n",
    "                continue\n",
    "            m = parser_group.match(line)\n",
    "            if m:\n",
    "                units, hp, stats, damage, damage_type, initiative = m.groups()\n",
    "                units, hp, damage, initiative = int(units), int(hp), int(damage), int(initiative)\n",
    "\n",
    "                mw = parser_weakness.search(stats)\n",
    "                if mw:\n",
    "                    weaknesses = mw.group(1).split(\", \")\n",
    "                else:\n",
    "                    weaknesses = []\n",
    "\n",
    "                mi = parser_immunities.search(stats)\n",
    "                if mi:\n",
    "                    immunities = mi.group(1).split(\", \")\n",
    "                else:\n",
    "                    immunities = []\n",
    "\n",
    "                group = Group(group_id, team, units, hp, weaknesses, immunities, damage, damage_type, initiative)\n",
    "                groups[group_id] = group\n",
    "    return groups\n",
    "\n",
    "def print_groups(groups):\n",
    "    print(\"Immune System:\")\n",
    "    for g in [g for g in groups.values() if g.team == 0]:\n",
    "        print(g)\n",
    "    print()\n",
    "    print(\"Infection:\")\n",
    "    for g in [g for g in groups.values() if g.team == 1]:\n",
    "        print(g)"
   ]
  },
  {
   "cell_type": "code",
   "execution_count": 2,
   "metadata": {},
   "outputs": [
    {
     "name": "stdout",
     "output_type": "stream",
     "text": [
      "Immune System:\n",
      "4445 units each with 10125 hit points (immune to radiation) with an attack that does 20 cold damage at initiative 16\n",
      "722 units each with 9484 hit points with an attack that does 130 bludgeoning damage at initiative 6\n",
      "1767 units each with 5757 hit points (weak to fire, radiation) with an attack that does 27 radiation damage at initiative 4\n",
      "1472 units each with 7155 hit points (weak to slashing, bludgeoning) with an attack that does 42 radiation damage at initiative 20\n",
      "2610 units each with 5083 hit points (weak to slashing, fire) with an attack that does 14 fire damage at initiative 17\n",
      "442 units each with 1918 hit points with an attack that does 35 fire damage at initiative 8\n",
      "2593 units each with 1755 hit points (immune to bludgeoning, radiation, fire) with an attack that does 6 slashing damage at initiative 13\n",
      "6111 units each with 1395 hit points (weak to bludgeoning; immune to radiation, fire) with an attack that does 1 slashing damage at initiative 14\n",
      "231 units each with 3038 hit points (immune to radiation) with an attack that does 128 cold damage at initiative 15\n",
      "3091 units each with 6684 hit points (weak to radiation; immune to slashing) with an attack that does 17 cold damage at initiative 19\n",
      "\n",
      "Infection:\n",
      "1929 units each with 13168 hit points (weak to bludgeoning) with an attack that does 13 fire damage at initiative 7\n",
      "2143 units each with 14262 hit points (immune to radiation) with an attack that does 12 fire damage at initiative 10\n",
      "1380 units each with 20450 hit points (weak to slashing, radiation; immune to bludgeoning, fire) with an attack that does 28 cold damage at initiative 12\n",
      "4914 units each with 6963 hit points (weak to slashing; immune to fire) with an attack that does 2 cold damage at initiative 11\n",
      "1481 units each with 14192 hit points (weak to slashing, fire; immune to radiation) with an attack that does 17 bludgeoning damage at initiative 3\n",
      "58 units each with 40282 hit points (weak to cold, slashing) with an attack that does 1346 radiation damage at initiative 9\n",
      "2268 units each with 30049 hit points (immune to cold, slashing, radiation) with an attack that does 24 radiation damage at initiative 5\n",
      "3562 units each with 22067 hit points with an attack that does 9 fire damage at initiative 18\n",
      "4874 units each with 37620 hit points (weak to cold; immune to bludgeoning) with an attack that does 13 bludgeoning damage at initiative 1\n",
      "4378 units each with 32200 hit points (weak to cold) with an attack that does 10 bludgeoning damage at initiative 2\n"
     ]
    }
   ],
   "source": [
    "groups = get_input()\n",
    "print_groups(groups)"
   ]
  },
  {
   "cell_type": "code",
   "execution_count": 3,
   "metadata": {},
   "outputs": [],
   "source": [
    "def calc_damage(attacker, defender):\n",
    "    if attacker.team == defender.team:\n",
    "        return 0\n",
    "    if attacker.damage_type in defender.immunities:\n",
    "        return 0\n",
    "    if attacker.damage_type in defender.weaknesses:\n",
    "        return 2 * attacker.effective_power()\n",
    "    return attacker.effective_power()\n",
    "\n",
    "def targeting_priority(attacker, defender): \n",
    "    return (calc_damage(attacker, defender), defender.effective_power(), defender.initiative)"
   ]
  },
  {
   "cell_type": "code",
   "execution_count": 4,
   "metadata": {},
   "outputs": [],
   "source": [
    "def targeting(groups):\n",
    "    targets = {}\n",
    "    targeting_order = [g.group_id for g in sorted(groups.values(), key = Group.targeting_order_key, reverse = True)]\n",
    "    for attacker_id in targeting_order:\n",
    "        attacker = groups[attacker_id]\n",
    "        target = max((g for g in groups.values() if g.team != attacker.team and g.group_id not in targets.values()), key = lambda g : targeting_priority(attacker, g), default = None)\n",
    "        if not target or calc_damage(attacker, target) == 0:\n",
    "            continue\n",
    "        targets[attacker_id] = target.group_id\n",
    "    return targets"
   ]
  },
  {
   "cell_type": "code",
   "execution_count": 5,
   "metadata": {},
   "outputs": [],
   "source": [
    "def attacking(groups, targets):\n",
    "    state_changed = False\n",
    "    attack_order = [g.group_id for g in sorted(groups.values(), key = Group.attacking_order_key, reverse = True)]\n",
    "    for attacker_id in attack_order:\n",
    "        if attacker_id not in targets or attacker_id not in groups:\n",
    "            continue\n",
    "        target_id = targets[attacker_id]\n",
    "        attacker = groups[attacker_id]\n",
    "        target = groups[target_id]\n",
    "        units_fallen = calc_damage(attacker, target) // target.hp\n",
    "        if units_fallen == 0:\n",
    "            continue\n",
    "        target.units -= units_fallen\n",
    "        state_changed = True\n",
    "        if target.units <= 0:\n",
    "            del groups[target_id]\n",
    "    return state_changed"
   ]
  },
  {
   "cell_type": "code",
   "execution_count": 6,
   "metadata": {},
   "outputs": [],
   "source": [
    "def turn(groups):\n",
    "    if not groups:\n",
    "        # No groups remaining\n",
    "        return False\n",
    "    if len(set(g.team for g in groups.values())) == 1:\n",
    "        # A team has eliminated the other\n",
    "        return False\n",
    "    targets = targeting(groups)\n",
    "    if not targets:\n",
    "        # Nobody can attack anyone\n",
    "        return False\n",
    "    if not attacking(groups, targets):\n",
    "        # No unit killed during this turn\n",
    "        return False\n",
    "    return True"
   ]
  },
  {
   "cell_type": "code",
   "execution_count": 7,
   "metadata": {},
   "outputs": [],
   "source": [
    "def play(groups):\n",
    "    while turn(groups):\n",
    "        pass"
   ]
  },
  {
   "cell_type": "code",
   "execution_count": 8,
   "metadata": {},
   "outputs": [
    {
     "name": "stdout",
     "output_type": "stream",
     "text": [
      "Part 1: 21891\n"
     ]
    }
   ],
   "source": [
    "groups = get_input()\n",
    "play(groups)\n",
    "part1 = sum(g.units for g in groups.values())\n",
    "print(\"Part 1: {}\".format(part1))"
   ]
  },
  {
   "cell_type": "code",
   "execution_count": 14,
   "metadata": {},
   "outputs": [
    {
     "name": "stdout",
     "output_type": "stream",
     "text": [
      "Part 2: 7058 (requires 82 boost)\n"
     ]
    }
   ],
   "source": [
    "low = 0\n",
    "high = 8192\n",
    "\n",
    "while low <= high:\n",
    "    mid = (low + high) // 2\n",
    "    groups = get_input()\n",
    "    for g in groups.values():\n",
    "        if g.team == 0:\n",
    "            g.damage += mid\n",
    "    play(groups)\n",
    "    if all(g.team == 0 for g in groups.values()):\n",
    "        # Immune system won: the boost is at least high enough\n",
    "        high = mid - 1\n",
    "    else:\n",
    "        low = mid + 1\n",
    "\n",
    "groups = get_input()\n",
    "for g in groups.values():\n",
    "    if g.team == 0:\n",
    "        g.damage += low\n",
    "play(groups)\n",
    "part2 = sum(g.units for g in groups.values())\n",
    "print(\"Part 2: {} (requires {} boost)\".format(part2, low))"
   ]
  }
 ],
 "metadata": {
  "kernelspec": {
   "display_name": "Python 3",
   "language": "python",
   "name": "python3"
  },
  "language_info": {
   "codemirror_mode": {
    "name": "ipython",
    "version": 3
   },
   "file_extension": ".py",
   "mimetype": "text/x-python",
   "name": "python",
   "nbconvert_exporter": "python",
   "pygments_lexer": "ipython3",
   "version": "3.6.7"
  }
 },
 "nbformat": 4,
 "nbformat_minor": 2
}
