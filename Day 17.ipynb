{
 "cells": [
  {
   "cell_type": "code",
   "execution_count": 1,
   "metadata": {},
   "outputs": [],
   "source": [
    "import math\n",
    "from enum import Enum\n",
    "\n",
    "class CellType(Enum):\n",
    "    clay = 0\n",
    "    flowing = 1\n",
    "    water = 2\n",
    "    spring = 3\n",
    "    \n",
    "    def blocking(self):\n",
    "        return self == CellType.clay or self == CellType.water\n",
    "\n",
    "class Underground:\n",
    "    def __init__(self, cells):\n",
    "        self.cells = cells\n",
    "        self.y_min = min(y for (x, y), c in self.cells.items() if c == CellType.clay)\n",
    "        self.y_max = max(y for (x, y), c in self.cells.items() if c == CellType.clay)\n",
    "    \n",
    "    def borders(self):\n",
    "        x_min = min(x for x, y in self.cells.keys())\n",
    "        x_max = max(x for x, y in self.cells.keys())\n",
    "        return x_min, x_max, 0, self.y_max\n",
    "\n",
    "    def blocking(self, x, y):\n",
    "        return (x, y) in self.cells and self.cells[(x, y)].blocking()\n",
    "    \n",
    "    def __str__(self):\n",
    "        x_min, x_max, y_min, y_max = self.borders()\n",
    "        string = \"\"\n",
    "        for y in range(y_min, y_max + 1):\n",
    "            string += \"{:04d} \".format(y)\n",
    "            for x in range(x_min, x_max + 1):\n",
    "                cell = self.cells.get((x, y))\n",
    "                if not cell:\n",
    "                    string += '.'\n",
    "                elif cell == CellType.clay:\n",
    "                    string += '#'\n",
    "                elif cell == CellType.flowing:\n",
    "                    string += '|'\n",
    "                elif cell == CellType.water:\n",
    "                    string += '~'\n",
    "                else:\n",
    "                    string += '+'\n",
    "            string += \"\\n\"\n",
    "        return string\n",
    "    \n",
    "    def flow(self, x = 500, y = 0):\n",
    "        while y < self.y_max and not (x, y + 1) in self.cells:\n",
    "            y += 1\n",
    "            self.cells[(x, y)] = CellType.flowing\n",
    "        if not self.blocking(x, y + 1):\n",
    "            return\n",
    "        new_sources = self.spread(x, y)\n",
    "        for x_new, y_new in new_sources:\n",
    "            self.flow(x_new, y_new)\n",
    "    \n",
    "    def spread(self, x, y):\n",
    "        self.cells[(x, y)] = CellType.flowing\n",
    "        \n",
    "        new_sources = []\n",
    "        \n",
    "        # Spread to the left\n",
    "        x1 = x\n",
    "        while self.blocking(x1, y + 1) and not self.blocking(x1 - 1, y):\n",
    "            x1 -= 1\n",
    "            self.cells[(x1, y)] = CellType.flowing\n",
    "        if not self.blocking(x1, y + 1):\n",
    "            # We reached the end of a ledge, so we start flowing from here\n",
    "            new_sources.append((x1, y))\n",
    "        \n",
    "        # Spread to the right\n",
    "        x2 = x\n",
    "        while self.blocking(x2, y + 1) and not self.blocking(x2 + 1, y):\n",
    "            x2 += 1\n",
    "            self.cells[(x2, y)] = CellType.flowing\n",
    "        if not self.blocking(x2, y + 1):\n",
    "            # We reached the end of a ledge, so we start flowing from here\n",
    "            new_sources.append((x2, y))\n",
    "        \n",
    "        # If we reached a ledge, we will flow again\n",
    "        if new_sources:\n",
    "            return new_sources\n",
    "        # If we have reached no ledge, it means we are in a reservoir!\n",
    "        # We replace all the line of flowing water with stagnant water\n",
    "        for x_water in range(x1, x2 + 1):\n",
    "            self.cells[(x_water, y)] = CellType.water\n",
    "        # And we start another layer of spreading on top of it\n",
    "        return self.spread(x, y - 1)\n",
    "    "
   ]
  },
  {
   "cell_type": "code",
   "execution_count": 2,
   "metadata": {},
   "outputs": [],
   "source": [
    "import re\n",
    "\n",
    "# Input\n",
    "parser_x = re.compile(r\"x=(\\d+), y=(\\d+)..(\\d+)\")\n",
    "parser_y = re.compile(r\"y=(\\d+), x=(\\d+)..(\\d+)\")\n",
    "\n",
    "cells = {(500, 0): CellType.spring}\n",
    "with open(\"Input/17.txt\") as file:\n",
    "    for line in file:\n",
    "        match = parser_x.match(line)\n",
    "        if match:\n",
    "            x, y1, y2 = [int(x) for x in match.groups()]\n",
    "            for y in range(y1, y2 + 1):\n",
    "                cells[(x, y)] = CellType.clay\n",
    "            continue\n",
    "        match = parser_y.match(line)\n",
    "        if match:\n",
    "            y, x1, x2 = [int(x) for x in match.groups()]\n",
    "            for x in range(x1, x2 + 1):\n",
    "                cells[(x, y)] = CellType.clay\n",
    "            continue            \n",
    "    underground = Underground(cells)\n",
    "\n",
    "underground.flow()"
   ]
  },
  {
   "cell_type": "code",
   "execution_count": 3,
   "metadata": {},
   "outputs": [
    {
     "name": "stdout",
     "output_type": "stream",
     "text": [
      "Part 1: 28246\n"
     ]
    }
   ],
   "source": [
    "print(\"Part 1: {}\".format(len([c for (x, y), c in underground.cells.items() if (c == CellType.water or c == CellType.flowing) and (y >= underground.y_min and y <= underground.y_max)])))"
   ]
  },
  {
   "cell_type": "code",
   "execution_count": 4,
   "metadata": {},
   "outputs": [
    {
     "name": "stdout",
     "output_type": "stream",
     "text": [
      "Part 2: 23107\n"
     ]
    }
   ],
   "source": [
    "print(\"Part 2: {}\".format(len([c for (x, y), c in underground.cells.items() if c == CellType.water and (y >= underground.y_min and y <= underground.y_max)])))"
   ]
  }
 ],
 "metadata": {
  "kernelspec": {
   "display_name": "Python 3",
   "language": "python",
   "name": "python3"
  },
  "language_info": {
   "codemirror_mode": {
    "name": "ipython",
    "version": 3
   },
   "file_extension": ".py",
   "mimetype": "text/x-python",
   "name": "python",
   "nbconvert_exporter": "python",
   "pygments_lexer": "ipython3",
   "version": "3.6.7"
  }
 },
 "nbformat": 4,
 "nbformat_minor": 2
}
