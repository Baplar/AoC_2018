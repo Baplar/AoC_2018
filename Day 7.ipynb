{
 "cells": [
  {
   "cell_type": "code",
   "execution_count": 1,
   "metadata": {},
   "outputs": [],
   "source": [
    "# Parse instructions\n",
    "from bisect import insort\n",
    "import re\n",
    "parser = re.compile(r\"Step (\\w) must be finished before step (\\w) can begin.\")\n",
    "data = []\n",
    "with open(\"Input/7.txt\") as file:\n",
    "    for line in file:\n",
    "        pre, post = parser.match(line).groups()\n",
    "        data.append((pre, post))"
   ]
  },
  {
   "cell_type": "code",
   "execution_count": 2,
   "metadata": {},
   "outputs": [
    {
     "name": "stdout",
     "output_type": "stream",
     "text": [
      "BITRAQVSGUWKXYHMZPOCDLJNFE\n"
     ]
    }
   ],
   "source": [
    "# Part 1\n",
    "\n",
    "instructions = data.copy()\n",
    "ready = []\n",
    "for line in instructions:\n",
    "    for step in line:\n",
    "        if step not in ready:\n",
    "            insort(ready, step)\n",
    "\n",
    "# Remove all steps still waiting for another's completion\n",
    "waiting = []\n",
    "for line in instructions:\n",
    "    step = line[1]\n",
    "    if step in ready:\n",
    "        ready.remove(step)\n",
    "        insort(waiting, step)\n",
    "\n",
    "# Iterate on available steps\n",
    "order = []\n",
    "while ready:\n",
    "    new = ready.pop(0)\n",
    "    order.append(new)\n",
    "    instructions = [line for line in instructions if line[0] != new]\n",
    "    still_waiting = [line[1] for line in instructions]\n",
    "    new_ready = [step for step in waiting if step not in still_waiting]\n",
    "    for step in new_ready:\n",
    "        waiting.remove(step)\n",
    "        insort(ready, step)\n",
    "    \n",
    "print(\"\".join(order))"
   ]
  },
  {
   "cell_type": "code",
   "execution_count": 3,
   "metadata": {},
   "outputs": [
    {
     "name": "stdout",
     "output_type": "stream",
     "text": [
      "869\n"
     ]
    }
   ],
   "source": [
    "# Part 2\n",
    "nb_workers = 5\n",
    "\n",
    "instructions = data.copy()\n",
    "ready = []\n",
    "for line in instructions:\n",
    "    for step in line:\n",
    "        if step not in ready:\n",
    "            insort(ready, step)\n",
    "\n",
    "# Remove all steps still waiting for another's completion\n",
    "waiting = []\n",
    "for line in instructions:\n",
    "    step = line[1]\n",
    "    if step in ready:\n",
    "        ready.remove(step)\n",
    "        insort(waiting, step)\n",
    "        \n",
    "order = []\n",
    "working = []\n",
    "total = 0\n",
    "while ready or working:\n",
    "    while len(working) < nb_workers and ready:\n",
    "        step = ready.pop(0)\n",
    "        duration = 61 + ord(step) - ord('A')\n",
    "        working.append((step, duration))\n",
    "    duration = min([d for (_, d) in working])\n",
    "    total += duration\n",
    "    nxt = [step for (step, d) in working if d == duration]\n",
    "    nxt.sort()\n",
    "    order += nxt\n",
    "    working = [(step, d - duration) for (step, d) in working if d > duration]\n",
    "\n",
    "    instructions = [line for line in instructions if line[0] not in nxt]\n",
    "    still_waiting = [line[1] for line in instructions]\n",
    "    new_ready = [step for step in waiting if step not in still_waiting]\n",
    "    for step in new_ready:\n",
    "        waiting.remove(step)\n",
    "        insort(ready, step)\n",
    "\n",
    "print(total)"
   ]
  },
  {
   "cell_type": "code",
   "execution_count": null,
   "metadata": {},
   "outputs": [],
   "source": []
  }
 ],
 "metadata": {
  "kernelspec": {
   "display_name": "Python 3",
   "language": "python",
   "name": "python3"
  },
  "language_info": {
   "codemirror_mode": {
    "name": "ipython",
    "version": 3
   },
   "file_extension": ".py",
   "mimetype": "text/x-python",
   "name": "python",
   "nbconvert_exporter": "python",
   "pygments_lexer": "ipython3",
   "version": "3.6.7"
  }
 },
 "nbformat": 4,
 "nbformat_minor": 2
}
