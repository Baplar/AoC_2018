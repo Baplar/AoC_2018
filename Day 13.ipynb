{
 "cells": [
  {
   "cell_type": "code",
   "execution_count": 1,
   "metadata": {},
   "outputs": [],
   "source": [
    "from enum import Enum\n",
    "class Memory(Enum):\n",
    "    left = 0\n",
    "    forward = 1\n",
    "    right = 2\n",
    "    \n",
    "    def increment(self, inc=1):\n",
    "        return Memory((self.value + inc) % 3)\n",
    "\n",
    "class Direction(Enum):\n",
    "    right = 0\n",
    "    down = 1\n",
    "    left = 2\n",
    "    up = 3\n",
    "    \n",
    "    def to_position_increment(self):\n",
    "        return [(1, 0), (0, 1), (-1, 0), (0, -1)][self.value]\n",
    "\n",
    "    def increment(self, inc=1):\n",
    "        return Direction((self.value + inc) % 4)\n",
    "            \n",
    "class TrackEvent(Enum):\n",
    "    intersection = 0\n",
    "    forward = 1\n",
    "    back = 2"
   ]
  },
  {
   "cell_type": "code",
   "execution_count": 2,
   "metadata": {},
   "outputs": [],
   "source": [
    "# Cart class\n",
    "class Cart:\n",
    "    def __init__(self, position, direction):\n",
    "        self.position = position\n",
    "        self.direction = direction\n",
    "        self.memory = Memory.left\n",
    "    \n",
    "    def step(self, tracks):\n",
    "        (x, y) = self.position\n",
    "        (dx, dy) = self.direction.to_position_increment()\n",
    "        self.position = (x + dx, y + dy)\n",
    "        if self.position in tracks:\n",
    "            event = tracks[self.position]\n",
    "            self.turn(event)\n",
    "    \n",
    "    def turn(self, event):\n",
    "        if event == TrackEvent.intersection:\n",
    "            self.direction =  self.direction.increment(self.memory.value - 1)\n",
    "            self.memory = self.memory.increment()\n",
    "        elif event == TrackEvent.forward:\n",
    "            self.direction = Direction([3, 2, 1, 0][self.direction.value])\n",
    "        elif event == TrackEvent.back:\n",
    "            self.direction = Direction([1, 0, 3, 2][self.direction.value])"
   ]
  },
  {
   "cell_type": "code",
   "execution_count": 3,
   "metadata": {},
   "outputs": [],
   "source": [
    "from operator import itemgetter\n",
    "\n",
    "class Collision(Exception):\n",
    "    def __init__(self, coordinates):\n",
    "        self.coordinates = coordinates\n",
    "        \n",
    "# Tick\n",
    "def tick(carts, tracks):\n",
    "    next_carts = {}\n",
    "    for pos in sorted(carts.keys(), key = itemgetter(1, 0)):\n",
    "        cart = carts.pop(pos)\n",
    "        cart.step(tracks)\n",
    "        if cart.position in carts or cart.position in next_carts:\n",
    "            # Collision!\n",
    "            raise Collision(cart.position)\n",
    "        next_carts[cart.position] = cart\n",
    "    return next_carts"
   ]
  },
  {
   "cell_type": "code",
   "execution_count": 4,
   "metadata": {},
   "outputs": [],
   "source": [
    "# Input\n",
    "carts = {}\n",
    "tracks = {}\n",
    "with open(\"Input/13.txt\") as file:\n",
    "    for y, line in enumerate(file):\n",
    "        for x, char in enumerate(line):\n",
    "            if char == '/':\n",
    "                tracks[(x, y)] = TrackEvent.forward\n",
    "            elif char == '\\\\':\n",
    "                tracks[(x, y)] = TrackEvent.back\n",
    "            elif char == '+':\n",
    "                tracks[(x, y)] = TrackEvent.intersection\n",
    "            elif char == '>':\n",
    "                carts[(x, y)] = Cart((x, y), Direction.right)\n",
    "            elif char == 'v':\n",
    "                carts[(x, y)] = Cart((x, y), Direction.down)\n",
    "            elif char == '<':\n",
    "                carts[(x, y)] = Cart((x, y), Direction.left)\n",
    "            elif char == '^':\n",
    "                carts[(x, y)] = Cart((x, y), Direction.up)"
   ]
  },
  {
   "cell_type": "code",
   "execution_count": 5,
   "metadata": {},
   "outputs": [
    {
     "name": "stdout",
     "output_type": "stream",
     "text": [
      "113,136\n"
     ]
    }
   ],
   "source": [
    "# Part 1\n",
    "\n",
    "while True:\n",
    "    try:\n",
    "        carts = tick(carts, tracks)\n",
    "    except Collision as c:\n",
    "        (x, y) = c.coordinates\n",
    "        print(\"{},{}\".format(x, y))\n",
    "        break"
   ]
  },
  {
   "cell_type": "code",
   "execution_count": 6,
   "metadata": {},
   "outputs": [],
   "source": [
    "# Reset input\n",
    "carts = {}\n",
    "tracks = {}\n",
    "with open(\"Input/13.txt\") as file:\n",
    "    for y, line in enumerate(file):\n",
    "        for x, char in enumerate(line):\n",
    "            if char == '/':\n",
    "                tracks[(x, y)] = TrackEvent.forward\n",
    "            elif char == '\\\\':\n",
    "                tracks[(x, y)] = TrackEvent.back\n",
    "            elif char == '+':\n",
    "                tracks[(x, y)] = TrackEvent.intersection\n",
    "            elif char == '>':\n",
    "                carts[(x, y)] = Cart((x, y), Direction.right)\n",
    "            elif char == 'v':\n",
    "                carts[(x, y)] = Cart((x, y), Direction.down)\n",
    "            elif char == '<':\n",
    "                carts[(x, y)] = Cart((x, y), Direction.left)\n",
    "            elif char == '^':\n",
    "                carts[(x, y)] = Cart((x, y), Direction.up)"
   ]
  },
  {
   "cell_type": "code",
   "execution_count": 7,
   "metadata": {},
   "outputs": [
    {
     "name": "stdout",
     "output_type": "stream",
     "text": [
      "114,136\n"
     ]
    }
   ],
   "source": [
    "# Part 2\n",
    "def tick_safe(carts, tracks):\n",
    "    next_carts = {}\n",
    "    for pos in sorted(carts.keys(), key = itemgetter(1, 0)):\n",
    "        cart = carts.pop(pos, None)\n",
    "        if not cart:\n",
    "            # This cart probably collided during this tick\n",
    "            continue\n",
    "        cart.step(tracks)\n",
    "        if cart.position in carts or cart.position in next_carts:\n",
    "            # Collision! We remove the carts this time\n",
    "            carts.pop(cart.position, None)\n",
    "            next_carts.pop(cart.position, None)\n",
    "            continue\n",
    "        next_carts[cart.position] = cart\n",
    "    return next_carts\n",
    "\n",
    "while len(carts) > 1:\n",
    "    carts = tick_safe(carts, tracks)\n",
    "\n",
    "for (x, y) in carts.keys():\n",
    "    print(\"{},{}\".format(x, y))\n"
   ]
  }
 ],
 "metadata": {
  "kernelspec": {
   "display_name": "Python 3",
   "language": "python",
   "name": "python3"
  },
  "language_info": {
   "codemirror_mode": {
    "name": "ipython",
    "version": 3
   },
   "file_extension": ".py",
   "mimetype": "text/x-python",
   "name": "python",
   "nbconvert_exporter": "python",
   "pygments_lexer": "ipython3",
   "version": "3.6.7"
  }
 },
 "nbformat": 4,
 "nbformat_minor": 2
}
