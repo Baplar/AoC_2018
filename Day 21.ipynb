{
 "cells": [
  {
   "cell_type": "code",
   "execution_count": 1,
   "metadata": {},
   "outputs": [],
   "source": [
    "# Proper program\n",
    "def program(x0):\n",
    "    x5 = 123\n",
    "    while x5 != 72:\n",
    "        x5 &= 456\n",
    "    x5 = 0\n",
    "    while True:\n",
    "        x4 = x5 | 65536\n",
    "        x5 = 13431073\n",
    "        while True:\n",
    "            x3 = x4 & 255\n",
    "            x5 += x3\n",
    "            x5 &= 16777215\n",
    "            x5 *= 65899\n",
    "            x5 &= 16777215\n",
    "            if 256 > x4:\n",
    "                break\n",
    "            x3 = 0\n",
    "            while True:\n",
    "                x2 = x3 + 1\n",
    "                x2 *= 256\n",
    "                if x2 > x4:\n",
    "                    break\n",
    "                x3 += 1\n",
    "            x4 = x3\n",
    "        if x5 == x0:\n",
    "            break"
   ]
  },
  {
   "cell_type": "code",
   "execution_count": 2,
   "metadata": {},
   "outputs": [],
   "source": [
    "# One external loop only, returns x5\n",
    "def program_once():\n",
    "    x5 = 123\n",
    "    while x5 != 72:\n",
    "        x5 &= 456\n",
    "    x5 = 0\n",
    "    while True:\n",
    "        x4 = x5 | 65536\n",
    "        x5 = 13431073\n",
    "        while True:\n",
    "            x3 = x4 & 255\n",
    "            x5 += x3\n",
    "            x5 &= 16777215\n",
    "            x5 *= 65899\n",
    "            x5 &= 16777215\n",
    "            if 256 > x4:\n",
    "                break\n",
    "            x3 = 0\n",
    "            while True:\n",
    "                x2 = x3 + 1\n",
    "                x2 *= 256\n",
    "                if x2 > x4:\n",
    "                    break\n",
    "                x3 += 1\n",
    "            x4 = x3\n",
    "        break\n",
    "    return x5"
   ]
  },
  {
   "cell_type": "code",
   "execution_count": 3,
   "metadata": {},
   "outputs": [
    {
     "name": "stdout",
     "output_type": "stream",
     "text": [
      "Part 1: 3115806\n"
     ]
    }
   ],
   "source": [
    "print(\"Part 1: {}\".format(program_once()))"
   ]
  },
  {
   "cell_type": "code",
   "execution_count": 10,
   "metadata": {},
   "outputs": [],
   "source": [
    "# Until it loops\n",
    "def program_loop():\n",
    "    x5 = 123\n",
    "    while x5 != 72:\n",
    "        x5 &= 456\n",
    "    # Instead of running until finding input, we run until it loops on itself\n",
    "    buffer = set()\n",
    "    previous = 0\n",
    "    x5 = 3115806\n",
    "    while True:\n",
    "        x4 = x5 | 65536\n",
    "        x5 = 13431073\n",
    "        while True:\n",
    "            x3 = x4 & 255\n",
    "            x5 += x3\n",
    "            x5 &= 16777215\n",
    "            x5 *= 65899\n",
    "            x5 &= 16777215\n",
    "            if 256 > x4:\n",
    "                break\n",
    "            x3 = 0\n",
    "            while True:\n",
    "                x2 = x3 + 1\n",
    "                x2 *= 256\n",
    "                if x2 > x4:\n",
    "                    break\n",
    "                x3 += 1\n",
    "            x4 = x3\n",
    "        if x5 in buffer:\n",
    "            break\n",
    "        else:\n",
    "            buffer.add(x5)\n",
    "            previous = x5\n",
    "    return previous"
   ]
  },
  {
   "cell_type": "code",
   "execution_count": 11,
   "metadata": {},
   "outputs": [
    {
     "name": "stdout",
     "output_type": "stream",
     "text": [
      "Part 2: 13959373\n"
     ]
    }
   ],
   "source": [
    "print(\"Part 2: {}\".format(program_loop()))"
   ]
  }
 ],
 "metadata": {
  "kernelspec": {
   "display_name": "Python 3",
   "language": "python",
   "name": "python3"
  },
  "language_info": {
   "codemirror_mode": {
    "name": "ipython",
    "version": 3
   },
   "file_extension": ".py",
   "mimetype": "text/x-python",
   "name": "python",
   "nbconvert_exporter": "python",
   "pygments_lexer": "ipython3",
   "version": "3.6.7"
  }
 },
 "nbformat": 4,
 "nbformat_minor": 2
}
