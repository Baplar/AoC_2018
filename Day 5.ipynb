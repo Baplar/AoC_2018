{
 "cells": [
  {
   "cell_type": "code",
   "execution_count": 1,
   "metadata": {},
   "outputs": [],
   "source": [
    "# Read input\n",
    "polymer = None\n",
    "with open(\"Input/5.txt\") as file:\n",
    "    polymer = file.read().strip()\n",
    "polymer = list(polymer)"
   ]
  },
  {
   "cell_type": "code",
   "execution_count": 2,
   "metadata": {},
   "outputs": [],
   "source": [
    "# Reaction\n",
    "def react(polymer):\n",
    "    result = []\n",
    "    rest = reversed(polymer)\n",
    "    for new in rest:\n",
    "        if not result:\n",
    "            result.append(new)\n",
    "            continue\n",
    "        old = result[-1]\n",
    "        # The difference between the ASCII codes of a lowercase letter and its uppercase counterpart is 32\n",
    "        if (ord(new) - ord(old) == 32) or (ord(old) - ord(new) == 32):\n",
    "            result.pop()\n",
    "        else:\n",
    "            result.append(new)\n",
    "    return result"
   ]
  },
  {
   "cell_type": "code",
   "execution_count": 3,
   "metadata": {},
   "outputs": [
    {
     "name": "stdout",
     "output_type": "stream",
     "text": [
      "9900\n"
     ]
    }
   ],
   "source": [
    "# Part 1\n",
    "print(len(react(polymer)))"
   ]
  },
  {
   "cell_type": "code",
   "execution_count": 4,
   "metadata": {},
   "outputs": [
    {
     "name": "stdout",
     "output_type": "stream",
     "text": [
      "4992\n"
     ]
    }
   ],
   "source": [
    "# Part 2\n",
    "import math\n",
    "best = math.inf\n",
    "\n",
    "for i in range(26):\n",
    "    lower = chr(ord('a') + i)\n",
    "    upper = chr(ord('A') + i)\n",
    "    improved = [x for x in polymer if x != lower and x != upper]\n",
    "    result = len(react(improved))\n",
    "    best = min(best, result)\n",
    "\n",
    "print(best)"
   ]
  },
  {
   "cell_type": "code",
   "execution_count": null,
   "metadata": {},
   "outputs": [],
   "source": []
  }
 ],
 "metadata": {
  "kernelspec": {
   "display_name": "Python 3",
   "language": "python",
   "name": "python3"
  },
  "language_info": {
   "codemirror_mode": {
    "name": "ipython",
    "version": 3
   },
   "file_extension": ".py",
   "mimetype": "text/x-python",
   "name": "python",
   "nbconvert_exporter": "python",
   "pygments_lexer": "ipython3",
   "version": "3.6.7"
  }
 },
 "nbformat": 4,
 "nbformat_minor": 2
}
