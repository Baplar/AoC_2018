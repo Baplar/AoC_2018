{
 "cells": [
  {
   "cell_type": "code",
   "execution_count": 1,
   "metadata": {},
   "outputs": [],
   "source": [
    "# Input\n",
    "import re\n",
    "parser_init = re.compile(r\"initial state: ([#.]+)\")\n",
    "parser_rule = re.compile(r\"([#.]{5}) => ([#.])\")\n",
    "\n",
    "def interpret(s):\n",
    "    return [c == '#' for c in s]\n",
    "\n",
    "def bool_vec_to_int(v):\n",
    "    i = 1\n",
    "    code = 0\n",
    "    for b in v:\n",
    "        if b:\n",
    "            code += i\n",
    "        i *= 2\n",
    "    return code\n",
    "\n",
    "with open(\"Input/12.txt\") as file:\n",
    "    initial_state = interpret(parser_init.match(file.readline()).group(1))\n",
    "    file.readline()\n",
    "    rules = []\n",
    "    for line in file:\n",
    "        prev, post = parser_rule.match(line).groups()\n",
    "        prev, post = bool_vec_to_int(interpret(prev)), (post == '#')\n",
    "        rules.append((prev, post))\n",
    "    rules = dict(rules)\n",
    "    rules = [rules[i] for i in range(len(rules))]\n",
    "        \n",
    "class Pots:\n",
    "    def __init__(self, initial_state, rules):\n",
    "        self.state = initial_state\n",
    "        self.rules = rules\n",
    "        self.offset = 0\n",
    "        \n",
    "    def __str__(self):\n",
    "        result = \"\"\n",
    "        for b in self.state:\n",
    "            if b:\n",
    "                result += '#'\n",
    "            else:\n",
    "                result += '.'\n",
    "        return result\n",
    "    \n",
    "    def trim(self):\n",
    "        while self.state and not self.state[0]:\n",
    "            self.state.pop(0)\n",
    "            self.offset += 1\n",
    "        while self.state and not self.state[-1]:\n",
    "            self.state.pop()\n",
    "    \n",
    "    def rule(self, x):\n",
    "        i = []\n",
    "        i.append(x >= 2 and self.state[x-2])\n",
    "        i.append(x >= 1 and self.state[x-1])\n",
    "        i.append(self.state[x])\n",
    "        i.append(x < len(self.state) - 1 and self.state[x+1])\n",
    "        i.append(x < len(self.state) - 2 and self.state[x+2])\n",
    "        return bool_vec_to_int(i)\n",
    "\n",
    "    def step(self):\n",
    "        self.state = [False, False] + self.state + [False, False]\n",
    "        self.offset -= 2\n",
    "        self.state = [rules[self.rule(x)] for x in range(len(self.state))]\n",
    "        self.trim()\n",
    "        \n",
    "    def score(self):\n",
    "        result = 0\n",
    "        for x in range(len(self.state)):\n",
    "            if self.state[x]:\n",
    "                result += x + self.offset\n",
    "        return result"
   ]
  },
  {
   "cell_type": "code",
   "execution_count": 2,
   "metadata": {},
   "outputs": [
    {
     "name": "stdout",
     "output_type": "stream",
     "text": [
      "3061\n"
     ]
    }
   ],
   "source": [
    "# Part 1\n",
    "pots = Pots(initial_state, rules)\n",
    "for _ in range(20):\n",
    "    pots.step()\n",
    "print(pots.score())"
   ]
  },
  {
   "cell_type": "code",
   "execution_count": 3,
   "metadata": {},
   "outputs": [
    {
     "name": "stdout",
     "output_type": "stream",
     "text": [
      "4049999998575\n"
     ]
    }
   ],
   "source": [
    "# Part 2\n",
    "from collections import deque\n",
    "\n",
    "pots = Pots(initial_state, rules)\n",
    "buffer = deque([0 for _ in range(1000)])\n",
    "prev = pots.score()\n",
    "for i in range(50000000000):\n",
    "    pots.step()\n",
    "    buffer.popleft()\n",
    "    cur = pots.score()\n",
    "    buffer.append(cur - prev)\n",
    "    prev = cur\n",
    "    step = buffer[0]\n",
    "    if all([b == step for b in buffer]):\n",
    "        gens = i + 1\n",
    "        break\n",
    "\n",
    "final_score = pots.score() + (50000000000 - gens) * step\n",
    "print(final_score)"
   ]
  }
 ],
 "metadata": {
  "kernelspec": {
   "display_name": "Python 3",
   "language": "python",
   "name": "python3"
  },
  "language_info": {
   "codemirror_mode": {
    "name": "ipython",
    "version": 3
   },
   "file_extension": ".py",
   "mimetype": "text/x-python",
   "name": "python",
   "nbconvert_exporter": "python",
   "pygments_lexer": "ipython3",
   "version": "3.6.7"
  }
 },
 "nbformat": 4,
 "nbformat_minor": 2
}
