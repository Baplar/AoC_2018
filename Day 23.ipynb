{
 "cells": [
  {
   "cell_type": "code",
   "execution_count": 1,
   "metadata": {},
   "outputs": [],
   "source": [
    "import re\n",
    "\n",
    "parser = re.compile(r\"pos=<(.+),(.+),(.+)>, r=(.+)\")\n",
    "\n",
    "nanobots = []\n",
    "with open(\"Input/23.txt\") as file:\n",
    "    for line in file:\n",
    "        x, y, z, r = parser.match(line).groups()\n",
    "        x, y, z, r = int(x), int(y), int(z), int(r)\n",
    "        nanobots.append(((x, y, z), r))"
   ]
  },
  {
   "cell_type": "code",
   "execution_count": 2,
   "metadata": {},
   "outputs": [
    {
     "name": "stdout",
     "output_type": "stream",
     "text": [
      "Part 1: 341\n"
     ]
    }
   ],
   "source": [
    "from operator import itemgetter\n",
    "\n",
    "def dist(pos1, pos2):\n",
    "    return sum(abs(x1 - x2) for x1, x2 in zip(pos1, pos2))\n",
    "\n",
    "pos, r = max(nanobots, key = itemgetter(1))\n",
    "in_range = sum(1 for (pos_bot, _) in nanobots if dist(pos, pos_bot) <= r)\n",
    "print(\"Part 1: {}\".format(in_range))"
   ]
  },
  {
   "cell_type": "code",
   "execution_count": 3,
   "metadata": {},
   "outputs": [],
   "source": [
    "def bots_in_range(pos):\n",
    "    return sum(1 for (pos_bot, range_bot) in nanobots if dist(pos, pos_bot) <= range_bot)"
   ]
  },
  {
   "cell_type": "code",
   "execution_count": 5,
   "metadata": {},
   "outputs": [
    {
     "name": "stdout",
     "output_type": "stream",
     "text": [
      "sat\n",
      "Part 2: 105191907\n"
     ]
    }
   ],
   "source": [
    "from z3 import *\n",
    "def zabs(x):\n",
    "    return If(x >= 0,x,-x)\n",
    "(x, y, z) = (Int('x'), Int('y'), Int('z'))\n",
    "in_ranges = [\n",
    "    Int('in_range_{}'.format(i)) for i in range(len(nanobots))\n",
    "]\n",
    "range_count = Int('sum')\n",
    "o = Optimize()\n",
    "for i, ((nx, ny, nz), nrng) in enumerate(nanobots):\n",
    "    o.add(in_ranges[i] == If(zabs(x - nx) + zabs(y - ny) + zabs(z - nz) <= nrng, 1, 0))\n",
    "o.add(range_count == sum(in_ranges))\n",
    "dist_from_zero = Int('dist')\n",
    "o.add(dist_from_zero == zabs(x) + zabs(y) + zabs(z))\n",
    "h1 = o.maximize(range_count)\n",
    "h2 = o.minimize(dist_from_zero)\n",
    "print(o.check())\n",
    "#print o.lower(h1)\n",
    "#print o.upper(h1)\n",
    "print(\"Part 2: {}\".format(o.lower(h2)))\n",
    "#print o.model()[x]\n",
    "#print o.model()[y]\n",
    "#print o.model()[z]"
   ]
  }
 ],
 "metadata": {
  "kernelspec": {
   "display_name": "Python 3",
   "language": "python",
   "name": "python3"
  },
  "language_info": {
   "codemirror_mode": {
    "name": "ipython",
    "version": 3
   },
   "file_extension": ".py",
   "mimetype": "text/x-python",
   "name": "python",
   "nbconvert_exporter": "python",
   "pygments_lexer": "ipython3",
   "version": "3.6.7"
  }
 },
 "nbformat": 4,
 "nbformat_minor": 2
}
