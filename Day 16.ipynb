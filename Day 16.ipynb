{
 "cells": [
  {
   "cell_type": "code",
   "execution_count": 1,
   "metadata": {},
   "outputs": [],
   "source": [
    "import re\n",
    "# Input\n",
    "parser_instruction = re.compile(r\"(\\d+) (\\d+) (\\d+) (\\d+)\")\n",
    "parser_before = re.compile(r\"Before: \\[(\\d+), (\\d+), (\\d+), (\\d+)\\]\")\n",
    "parser_after = re.compile(r\"After:  \\[(\\d+), (\\d+), (\\d+), (\\d+)\\]\")\n",
    "\n",
    "samples = []\n",
    "test_program = []\n",
    "\n",
    "with open(\"Input/16.txt\") as file:\n",
    "    for line in file:\n",
    "        match = parser_instruction.match(line)\n",
    "        if match:\n",
    "            instruction = [int(x) for x in match.groups()]\n",
    "            test_program.append(instruction)\n",
    "            continue\n",
    "        m1 = parser_before.match(line)\n",
    "        if m1:\n",
    "            regs_before = [int(x) for x in m1.groups()]\n",
    "            line = file.readline()\n",
    "            instruction = [int(x) for x in parser_instruction.match(line).groups()]\n",
    "            line = file.readline()\n",
    "            regs_after = [int(x) for x in parser_after.match(line).groups()]\n",
    "            samples.append((regs_before, instruction, regs_after))"
   ]
  },
  {
   "cell_type": "code",
   "execution_count": 2,
   "metadata": {},
   "outputs": [],
   "source": [
    "# Registers\n",
    "class Registers:\n",
    "    def __init__(self, regs=None):\n",
    "        if not regs:\n",
    "            regs = [0, 0, 0, 0]\n",
    "        self.regs = regs.copy()\n",
    "    \n",
    "    def addr(self, a, b, c):\n",
    "        self.regs[c] = self.regs[a] + self.regs[b]\n",
    "\n",
    "    def addi(self, a, b, c):\n",
    "        self.regs[c] = self.regs[a] + b\n",
    "\n",
    "    def mulr(self, a, b, c):\n",
    "        self.regs[c] = self.regs[a] * self.regs[b]\n",
    "\n",
    "    def muli(self, a, b, c):\n",
    "        self.regs[c] = self.regs[a] * b\n",
    "\n",
    "    def banr(self, a, b, c):\n",
    "        self.regs[c] = self.regs[a] & self.regs[b]\n",
    "\n",
    "    def bani(self, a, b, c):\n",
    "        self.regs[c] = self.regs[a] & b\n",
    "\n",
    "    def borr(self, a, b, c):\n",
    "        self.regs[c] = self.regs[a] | self.regs[b]\n",
    "\n",
    "    def bori(self, a, b, c):\n",
    "        self.regs[c] = self.regs[a] | b\n",
    "\n",
    "    def setr(self, a, b, c):\n",
    "        self.regs[c] = self.regs[a]\n",
    "\n",
    "    def seti(self, a, b, c):\n",
    "        self.regs[c] = a\n",
    "\n",
    "    def gtir(self, a, b, c):\n",
    "        self.regs[c] = 1 if a > self.regs[b] else 0\n",
    "\n",
    "    def gtri(self, a, b, c):\n",
    "        self.regs[c] = 1 if self.regs[a] > b else 0\n",
    "\n",
    "    def gtrr(self, a, b, c):\n",
    "        self.regs[c] = 1 if self.regs[a] > self.regs[b] else 0\n",
    "\n",
    "    def eqir(self, a, b, c):\n",
    "        self.regs[c] = 1 if a == self.regs[b] else 0\n",
    "\n",
    "    def eqri(self, a, b, c):\n",
    "        self.regs[c] = 1 if self.regs[a] == b else 0\n",
    "\n",
    "    def eqrr(self, a, b, c):\n",
    "        self.regs[c] = 1 if self.regs[a] == self.regs[b] else 0\n",
    "        \n",
    "operators = [Registers.addr, Registers.addi, \n",
    "             Registers.mulr, Registers.muli,\n",
    "             Registers.banr, Registers.bani, \n",
    "             Registers.borr, Registers.bori, \n",
    "             Registers.setr, Registers.seti, \n",
    "             Registers.gtir, Registers.gtri, Registers.gtrr, \n",
    "             Registers.eqir, Registers.eqri, Registers.eqrr]"
   ]
  },
  {
   "cell_type": "code",
   "execution_count": 3,
   "metadata": {},
   "outputs": [
    {
     "name": "stdout",
     "output_type": "stream",
     "text": [
      "Part 1: 567\n"
     ]
    }
   ],
   "source": [
    "# Part 1\n",
    "result = 0\n",
    "for regs_before, (opcode, a, b, c), regs_after in samples:\n",
    "    correct = 0\n",
    "    for op in operators:\n",
    "        r = Registers(regs_before)\n",
    "        op(r, a, b, c)\n",
    "        if r.regs == regs_after:\n",
    "            correct += 1\n",
    "    if correct >= 3:\n",
    "        result += 1\n",
    "print(\"Part 1: {}\".format(result))"
   ]
  },
  {
   "cell_type": "code",
   "execution_count": 4,
   "metadata": {},
   "outputs": [
    {
     "name": "stdout",
     "output_type": "stream",
     "text": [
      "Part 2: 610\n"
     ]
    }
   ],
   "source": [
    "# Part 2\n",
    "\n",
    "# First, find possible operations for each\n",
    "correspondance = [set(range(len(operators))) for _ in range(len(operators))]\n",
    "for regs_before, (opcode, a, b, c), regs_after in samples:\n",
    "    correct = set()\n",
    "    for correspond in correspondance[opcode]:\n",
    "        r = Registers(regs_before)\n",
    "        operators[correspond](r, a, b, c)\n",
    "        if r.regs == regs_after:\n",
    "            correct.add(correspond)\n",
    "    correspondance[opcode] &= correct\n",
    "\n",
    "# Then, remove 1-1 correspondances from other sets until every 1-1 match is found\n",
    "found = [x for x in correspondance if len(x) == 1]\n",
    "while len(found) < len(operators):\n",
    "    for current in correspondance:\n",
    "        if len(current) > 1:\n",
    "            for x in found:\n",
    "                current -= x\n",
    "    found = [x for x in correspondance if len(x) == 1]\n",
    "\n",
    "# Reorder operators accordingly\n",
    "correspondance = [x.pop() for x in correspondance]\n",
    "operators = [operators[i] for i in correspondance]\n",
    "\n",
    "\n",
    "# Now, we can run the program\n",
    "r = Registers()\n",
    "for (opcode, a, b, c) in test_program:\n",
    "    operators[opcode](r, a, b, c)\n",
    "\n",
    "print(\"Part 2: {}\".format(r.regs[0]))"
   ]
  }
 ],
 "metadata": {
  "kernelspec": {
   "display_name": "Python 3",
   "language": "python",
   "name": "python3"
  },
  "language_info": {
   "codemirror_mode": {
    "name": "ipython",
    "version": 3
   },
   "file_extension": ".py",
   "mimetype": "text/x-python",
   "name": "python",
   "nbconvert_exporter": "python",
   "pygments_lexer": "ipython3",
   "version": "3.6.7"
  }
 },
 "nbformat": 4,
 "nbformat_minor": 2
}
