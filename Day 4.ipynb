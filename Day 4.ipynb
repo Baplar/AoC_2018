{
 "cells": [
  {
   "cell_type": "code",
   "execution_count": 1,
   "metadata": {},
   "outputs": [],
   "source": [
    "import re\n",
    "\n",
    "# Parsing and sorting\n",
    "data = \"\"\n",
    "with open(\"Input/4.txt\") as file:\n",
    "    data = file.readlines()\n",
    "data.sort()\n",
    "\n",
    "parser = re.compile(r\"\\[\\d+-\\d+-\\d+ \\d+:(\\d+)\\] (.+)\")\n",
    "guard_parser = re.compile(r\"Guard #(\\d+) begins shift\")\n",
    "sleep_parser = re.compile(r\"falls asleep\")\n",
    "wake_parser = re.compile(r\"wakes up\")"
   ]
  },
  {
   "cell_type": "code",
   "execution_count": 2,
   "metadata": {},
   "outputs": [],
   "source": [
    "# Compute schedules\n",
    "asleep = {}\n",
    "current_guard = -1\n",
    "current_sleep = -1\n",
    "for line in data:\n",
    "    (minute, event) = parser.match(line).groups()\n",
    "    minute = int(minute)\n",
    "    match = guard_parser.match(event)\n",
    "    if match:\n",
    "        current_guard = int(match.group(1))\n",
    "        current_sleep = -1\n",
    "        if current_guard not in asleep:\n",
    "            asleep[current_guard] = [0 for _ in range(60)]\n",
    "    elif sleep_parser.match(event):\n",
    "        current_sleep = minute\n",
    "    elif wake_parser.match(event):\n",
    "        if current_sleep == -1:\n",
    "            continue\n",
    "        for minute_sleep in range(current_sleep, minute):\n",
    "            asleep[current_guard][minute_sleep] += 1\n",
    "        current_sleep = -1"
   ]
  },
  {
   "cell_type": "code",
   "execution_count": 3,
   "metadata": {},
   "outputs": [
    {
     "name": "stdout",
     "output_type": "stream",
     "text": [
      "36898\n"
     ]
    }
   ],
   "source": [
    "# Part 1\n",
    "best_guard = -1\n",
    "best_sleep = -1\n",
    "for guard, sleep in asleep.items():\n",
    "    sleep = sum(sleep)\n",
    "    if sleep > best_sleep:\n",
    "        best_guard = guard\n",
    "        best_sleep = sleep\n",
    "\n",
    "best_sleep = asleep[best_guard]\n",
    "best_minute = best_sleep.index(max(best_sleep))\n",
    "\n",
    "print(best_guard * best_minute)"
   ]
  },
  {
   "cell_type": "code",
   "execution_count": 4,
   "metadata": {},
   "outputs": [
    {
     "name": "stdout",
     "output_type": "stream",
     "text": [
      "80711\n"
     ]
    }
   ],
   "source": [
    "# Part 2\n",
    "best_guard = -1\n",
    "best_sleep = -1\n",
    "best_minute = -1\n",
    "for guard, sleep in asleep.items():\n",
    "    for minute, value in enumerate(sleep):\n",
    "        if value > best_sleep:\n",
    "            best_guard = guard\n",
    "            best_sleep = value\n",
    "            best_minute = minute\n",
    "\n",
    "print(best_guard * best_minute)"
   ]
  },
  {
   "cell_type": "code",
   "execution_count": null,
   "metadata": {},
   "outputs": [],
   "source": []
  }
 ],
 "metadata": {
  "kernelspec": {
   "display_name": "Python 3",
   "language": "python",
   "name": "python3"
  },
  "language_info": {
   "codemirror_mode": {
    "name": "ipython",
    "version": 3
   },
   "file_extension": ".py",
   "mimetype": "text/x-python",
   "name": "python",
   "nbconvert_exporter": "python",
   "pygments_lexer": "ipython3",
   "version": "3.6.7"
  }
 },
 "nbformat": 4,
 "nbformat_minor": 2
}
