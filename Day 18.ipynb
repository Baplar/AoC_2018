{
 "cells": [
  {
   "cell_type": "code",
   "execution_count": 1,
   "metadata": {},
   "outputs": [],
   "source": [
    "from enum import Enum\n",
    "\n",
    "class Acre(Enum):\n",
    "    free = 0\n",
    "    trees = 1\n",
    "    lumberyard = 2\n",
    "\n",
    "def neighbors(x, y):\n",
    "    l = x > 0\n",
    "    r = x < 49\n",
    "    u = y > 0\n",
    "    d = y < 49\n",
    "    result = []\n",
    "    if l:\n",
    "        result.append((x-1, y))\n",
    "        if u:\n",
    "            result.append((x-1, y-1))\n",
    "        if d:\n",
    "            result.append((x-1, y+1))\n",
    "    if u:\n",
    "        result.append((x, y-1))\n",
    "    if d:\n",
    "        result.append((x, y+1))\n",
    "    if r:\n",
    "        result.append((x+1, y))\n",
    "        if u:\n",
    "            result.append((x+1, y-1))\n",
    "        if d:\n",
    "            result.append((x+1, y+1))\n",
    "    return result\n",
    "\n",
    "def get_next(fields, x, y):\n",
    "    c = fields[y][x]\n",
    "    trees = len([(x2, y2) for x2, y2 in neighbors(x, y) if fields[y2][x2] == Acre.trees])\n",
    "    lumber = len([(x2, y2) for x2, y2 in neighbors(x, y) if fields[y2][x2] == Acre.lumberyard])\n",
    "    if c == Acre.free and trees >= 3:\n",
    "        return Acre.trees\n",
    "    elif c == Acre.trees and lumber >= 3:\n",
    "        return Acre.lumberyard\n",
    "    elif c == Acre.lumberyard and (lumber == 0 or trees == 0):\n",
    "        return Acre.free\n",
    "    else:\n",
    "        return c\n",
    "\n",
    "def tick(fields):\n",
    "    return [[get_next(fields, x, y) for x in range(50)] for y in range(50)]"
   ]
  },
  {
   "cell_type": "code",
   "execution_count": 2,
   "metadata": {},
   "outputs": [],
   "source": [
    "# Input\n",
    "with open(\"Input/18.txt\") as file:\n",
    "    fields = []\n",
    "    for y, line in enumerate(file):\n",
    "        row = []\n",
    "        for x, c in enumerate(line):\n",
    "            if c == '.':\n",
    "                row.append(Acre.free)\n",
    "            elif c == '|':\n",
    "                row.append(Acre.trees)\n",
    "            elif c == '#':\n",
    "                row.append(Acre.lumberyard)\n",
    "        fields.append(row)"
   ]
  },
  {
   "cell_type": "code",
   "execution_count": 3,
   "metadata": {},
   "outputs": [
    {
     "name": "stdout",
     "output_type": "stream",
     "text": [
      "Part 1: 678529\n"
     ]
    }
   ],
   "source": [
    "part1 = fields\n",
    "for _ in range(10):\n",
    "    part1 = tick(part1)\n",
    "\n",
    "trees = len([c for row in part1 for c in row if c == Acre.trees])\n",
    "lumber = len([c for row in part1 for c in row if c == Acre.lumberyard])\n",
    "\n",
    "print(\"Part 1: {}\".format(trees * lumber))"
   ]
  },
  {
   "cell_type": "code",
   "execution_count": 4,
   "metadata": {},
   "outputs": [
    {
     "name": "stdout",
     "output_type": "stream",
     "text": [
      "Part 2: 224005\n"
     ]
    }
   ],
   "source": [
    "part2 = fields\n",
    "already_done = [part2]\n",
    "for i in range(1000000000):\n",
    "    part2 = tick(part2)\n",
    "    if part2 in already_done:\n",
    "        done = i + 1\n",
    "        j = already_done.index(part2)\n",
    "        period = done - j\n",
    "        break\n",
    "    already_done.append(part2)\n",
    "\n",
    "remaining = (1000000000 - done) % period\n",
    "for _ in range(remaining):\n",
    "    part2 = tick(part2)\n",
    "\n",
    "trees = len([c for row in part2 for c in row if c == Acre.trees])\n",
    "lumber = len([c for row in part2 for c in row if c == Acre.lumberyard])\n",
    "\n",
    "print(\"Part 2: {}\".format(trees * lumber))"
   ]
  }
 ],
 "metadata": {
  "kernelspec": {
   "display_name": "Python 3",
   "language": "python",
   "name": "python3"
  },
  "language_info": {
   "codemirror_mode": {
    "name": "ipython",
    "version": 3
   },
   "file_extension": ".py",
   "mimetype": "text/x-python",
   "name": "python",
   "nbconvert_exporter": "python",
   "pygments_lexer": "ipython3",
   "version": "3.6.7"
  }
 },
 "nbformat": 4,
 "nbformat_minor": 2
}
