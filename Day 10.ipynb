{
 "cells": [
  {
   "cell_type": "code",
   "execution_count": 5,
   "metadata": {},
   "outputs": [],
   "source": [
    "# Point class\n",
    "class Point:\n",
    "    def __init__(self, x, y, dx, dy):\n",
    "        self.x = x\n",
    "        self.y = y\n",
    "        self.dx = dx\n",
    "        self.dy = dy\n",
    "        self.t = 0\n",
    "    \n",
    "    def step(self, step=1):\n",
    "        self.x += step * self.dx\n",
    "        self.y += step * self.dy\n",
    "        self.t += step\n",
    "\n",
    "    def reset(self):\n",
    "        self.step(- self.t)\n",
    "        self.t = 0\n",
    "        \n",
    "    def __str__(self):\n",
    "        return \"position=<{: d}, {: d}> velocity=<{: d}, {: d}>\".format(self.x, self.y, self.dx, self.dy)\n",
    "        \n",
    "class Sky:\n",
    "    def __init__(self, points):\n",
    "        self.points = points\n",
    "        self.t = 0\n",
    "    \n",
    "    def step(self, step=1):\n",
    "        for point in self.points:\n",
    "            point.step(step)\n",
    "        self.t += step\n",
    "\n",
    "    def reset(self):\n",
    "        for point in self.points:\n",
    "            point.reset()\n",
    "        self.t = 0\n",
    "            \n",
    "    def borders(self):\n",
    "        x1 = min([point.x for point in self.points])\n",
    "        x2 = max([point.x for point in self.points])\n",
    "        y1 = min([point.y for point in self.points])\n",
    "        y2 = max([point.y for point in self.points])\n",
    "        return x1, x2, y1, y2\n",
    "    \n",
    "    def __str__(self):\n",
    "        x1, x2, y1, y2 = self.borders()\n",
    "        pts = {}\n",
    "        for point in self.points:\n",
    "            pts[(point.x, point.y)] = True\n",
    "        result = \"\"\n",
    "        for y in range(y1, y2+1):\n",
    "            for x in range(x1, x2+1):\n",
    "                if (x, y) in pts:\n",
    "                    result += '#'\n",
    "                else:\n",
    "                    result += '.'\n",
    "            result += \"\\n\"\n",
    "        return result\n",
    "    \n",
    "    def size(self):\n",
    "        x1, x2, y1, y2 = self.borders()\n",
    "        return (x2 - x1 + 1) * (y2 - y1 + 1)\n",
    "    \n",
    "    def search_min(self, step=1000):\n",
    "        self.reset()\n",
    "        while step > 0:\n",
    "            self.dichotomy(step)\n",
    "            step //= 10\n",
    "            \n",
    "    def dichotomy(self, step):\n",
    "        prev = self.size()\n",
    "        self.step(step)\n",
    "        cur = self.size()\n",
    "        while cur < prev:\n",
    "            self.step(step)\n",
    "            prev = cur\n",
    "            cur = self.size()\n",
    "        self.step(-2*step + 1)"
   ]
  },
  {
   "cell_type": "code",
   "execution_count": 6,
   "metadata": {},
   "outputs": [],
   "source": [
    "# Parser\n",
    "import re\n",
    "\n",
    "parser = re.compile(r\"position=<(.+), (.+)> velocity=<(.+), (.+)>\")\n",
    "\n",
    "points = []\n",
    "with open(\"Input/10.txt\") as file:\n",
    "    for line in file:\n",
    "        x, y, dx, dy = parser.match(line).groups()\n",
    "        x, y, dx, dy = int(x), int(y), int(dx), int(dy)\n",
    "        points.append(Point(x, y, dx, dy))\n",
    "\n",
    "sky = Sky(points)"
   ]
  },
  {
   "cell_type": "code",
   "execution_count": 7,
   "metadata": {},
   "outputs": [
    {
     "name": "stdout",
     "output_type": "stream",
     "text": [
      "#####...#####...#....#.....###..######..######..#....#..#....#\n",
      "#....#..#....#..##...#......#...#.......#.......##...#..#....#\n",
      "#....#..#....#..##...#......#...#.......#.......##...#..#....#\n",
      "#....#..#....#..#.#..#......#...#.......#.......#.#..#..#....#\n",
      "#####...#####...#.#..#......#...#####...#####...#.#..#..######\n",
      "#.......#.......#..#.#......#...#.......#.......#..#.#..#....#\n",
      "#.......#.......#..#.#......#...#.......#.......#..#.#..#....#\n",
      "#.......#.......#...##..#...#...#.......#.......#...##..#....#\n",
      "#.......#.......#...##..#...#...#.......#.......#...##..#....#\n",
      "#.......#.......#....#...###....######..######..#....#..#....#\n",
      "\n"
     ]
    }
   ],
   "source": [
    "# Part 1\n",
    "\n",
    "# Intuitively, when the stars align,\n",
    "# they should do so in a much more confined space\n",
    "# than they started at.\n",
    "# We search the time step that minimizes the rectangular window\n",
    "# containing all the stars in the sky.\n",
    "sky.search_min()\n",
    "print(sky)"
   ]
  },
  {
   "cell_type": "code",
   "execution_count": 8,
   "metadata": {},
   "outputs": [
    {
     "name": "stdout",
     "output_type": "stream",
     "text": [
      "10375\n"
     ]
    }
   ],
   "source": [
    "# Part 2\n",
    "sky.search_min()\n",
    "print(sky.t)"
   ]
  }
 ],
 "metadata": {
  "kernelspec": {
   "display_name": "Python 3",
   "language": "python",
   "name": "python3"
  },
  "language_info": {
   "codemirror_mode": {
    "name": "ipython",
    "version": 3
   },
   "file_extension": ".py",
   "mimetype": "text/x-python",
   "name": "python",
   "nbconvert_exporter": "python",
   "pygments_lexer": "ipython3",
   "version": "3.6.7"
  }
 },
 "nbformat": 4,
 "nbformat_minor": 2
}
