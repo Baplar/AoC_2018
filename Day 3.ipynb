{
 "cells": [
  {
   "cell_type": "code",
   "execution_count": 1,
   "metadata": {},
   "outputs": [],
   "source": [
    "import re\n",
    "\n",
    "# Parsing regex\n",
    "parser = re.compile(r\"#(\\d+) @ (\\d+),(\\d+): (\\d+)x(\\d+)\")\n",
    "\n",
    "class Rect:\n",
    "    def __init__(self, id_rect, x, y, w, h):\n",
    "        self.id_rect = id_rect\n",
    "        self.x = x\n",
    "        self.y = y\n",
    "        self.w = w\n",
    "        self.h = h\n",
    "    \n",
    "    @staticmethod\n",
    "    def from_line(line):\n",
    "        match = parser.match(line)\n",
    "        (id_rect, x, y, w, h) = match.groups()\n",
    "        return Rect(int(id_rect), int(x), int(y), int(w), int(h))\n",
    "    \n",
    "    def __str__(self):\n",
    "        return \"#{} @ {},{}: {}x{}\".format(self.id_rect, self.x, self.y, self.w, self.h)\n",
    "    \n",
    "    def squares(self):\n",
    "        return [(x, y) for x in range(self.x, self.x + self.w) for y in range(self.y, self.y + self.h)]\n",
    "    \n",
    "    def alone(self, all_squares):\n",
    "        for (x, y) in self.squares():\n",
    "            if all_squares[x][y] > 1:\n",
    "                return False\n",
    "        return True"
   ]
  },
  {
   "cell_type": "code",
   "execution_count": 2,
   "metadata": {},
   "outputs": [
    {
     "name": "stdout",
     "output_type": "stream",
     "text": [
      "121163\n"
     ]
    }
   ],
   "source": [
    "# Part 1\n",
    "\n",
    "all_squares = [[0 for y in range(1000)] for x in range(1000)]\n",
    "\n",
    "with open(\"Input/3.txt\") as file:\n",
    "    for line in file:\n",
    "        rect = Rect.from_line(line)\n",
    "        for (x, y) in rect.squares():\n",
    "            all_squares[x][y] += 1\n",
    "\n",
    "multiple = 0\n",
    "for row in all_squares:\n",
    "    for square in row:\n",
    "        if square > 1:\n",
    "            multiple += 1\n",
    "\n",
    "print(multiple)"
   ]
  },
  {
   "cell_type": "code",
   "execution_count": 3,
   "metadata": {},
   "outputs": [
    {
     "name": "stdout",
     "output_type": "stream",
     "text": [
      "943\n"
     ]
    }
   ],
   "source": [
    "# Part 2\n",
    "with open(\"Input/3.txt\") as file:\n",
    "    for line in file:\n",
    "        rect = Rect.from_line(line)\n",
    "        if rect.alone(all_squares):\n",
    "            print(rect.id_rect)\n",
    "            break"
   ]
  },
  {
   "cell_type": "code",
   "execution_count": null,
   "metadata": {},
   "outputs": [],
   "source": []
  }
 ],
 "metadata": {
  "kernelspec": {
   "display_name": "Python 3",
   "language": "python",
   "name": "python3"
  },
  "language_info": {
   "codemirror_mode": {
    "name": "ipython",
    "version": 3
   },
   "file_extension": ".py",
   "mimetype": "text/x-python",
   "name": "python",
   "nbconvert_exporter": "python",
   "pygments_lexer": "ipython3",
   "version": "3.6.7"
  }
 },
 "nbformat": 4,
 "nbformat_minor": 2
}
