{
 "cells": [
  {
   "cell_type": "code",
   "execution_count": 1,
   "metadata": {},
   "outputs": [],
   "source": [
    "# Input\n",
    "NB_RECIPES = 635041"
   ]
  },
  {
   "cell_type": "code",
   "execution_count": 2,
   "metadata": {},
   "outputs": [],
   "source": [
    "# Init\n",
    "recipes = [3, 7]\n",
    "elves = [0, 1]"
   ]
  },
  {
   "cell_type": "code",
   "execution_count": 3,
   "metadata": {},
   "outputs": [],
   "source": [
    "def iteration(recipes, elves, steps=1):\n",
    "    for _ in range(steps):\n",
    "        score = sum(recipes[elf] for elf in elves)\n",
    "        # At least one recipe, in the case where score == 0\n",
    "        new_recipes = [score % 10]\n",
    "        score //= 10\n",
    "        while score > 0:\n",
    "            new_recipes.append(score % 10)\n",
    "            score //= 10\n",
    "        new_recipes.reverse()\n",
    "        recipes.extend(new_recipes)\n",
    "        elves = [(elf + 1 + recipes[elf]) % len(recipes) for elf in elves]\n",
    "    return recipes, elves"
   ]
  },
  {
   "cell_type": "code",
   "execution_count": 4,
   "metadata": {},
   "outputs": [
    {
     "name": "stdout",
     "output_type": "stream",
     "text": [
      "Part 1: 1150511382\n"
     ]
    }
   ],
   "source": [
    "import cProfile\n",
    "# Part 1\n",
    "def part1(recipes, elves):\n",
    "    while len(recipes) < NB_RECIPES + 10:\n",
    "        recipes, elves = iteration(recipes, elves)\n",
    "    return recipes, elves\n",
    "\n",
    "# cProfile.run(\"recipes, elves = part1(recipes, elves)\")\n",
    "recipes, elves = part1(recipes, elves)\n",
    "print(\"Part 1: \" + \"\".join(str(x) for x in recipes[NB_RECIPES:NB_RECIPES + 10]))"
   ]
  },
  {
   "cell_type": "code",
   "execution_count": 5,
   "metadata": {},
   "outputs": [
    {
     "name": "stdout",
     "output_type": "stream",
     "text": [
      "Part 2: 20173656\n"
     ]
    }
   ],
   "source": [
    "# Init\n",
    "recipes = [3, 7]\n",
    "elves = [0, 1]\n",
    "\n",
    "def part2(recipes, elves):    \n",
    "    result = -1\n",
    "    to_find = str(NB_RECIPES)\n",
    "    to_find_len = len(to_find)\n",
    "    while result < 0:\n",
    "        prev_len = len(recipes)\n",
    "        recipes, elves = iteration(recipes, elves, 1000000)\n",
    "        result = \"\".join(str(x) for x in recipes[prev_len - to_find_len:]).find(to_find)\n",
    "    return result + prev_len - to_find_len\n",
    "\n",
    "# cProfile.run(\"result = part2(recipes, elves)\")\n",
    "result = part2(recipes, elves)\n",
    "print(\"Part 2: {}\".format(result))"
   ]
  },
  {
   "cell_type": "code",
   "execution_count": null,
   "metadata": {},
   "outputs": [],
   "source": []
  }
 ],
 "metadata": {
  "kernelspec": {
   "display_name": "Python 3",
   "language": "python",
   "name": "python3"
  },
  "language_info": {
   "codemirror_mode": {
    "name": "ipython",
    "version": 3
   },
   "file_extension": ".py",
   "mimetype": "text/x-python",
   "name": "python",
   "nbconvert_exporter": "python",
   "pygments_lexer": "ipython3",
   "version": "3.6.7"
  }
 },
 "nbformat": 4,
 "nbformat_minor": 2
}
