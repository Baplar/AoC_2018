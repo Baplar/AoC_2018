{
 "cells": [
  {
   "cell_type": "code",
   "execution_count": 1,
   "metadata": {},
   "outputs": [],
   "source": [
    "import numpy as np\n",
    "\n",
    "# Input\n",
    "SERIAL = 6548\n",
    "GRID_SIZE = 300"
   ]
  },
  {
   "cell_type": "code",
   "execution_count": 2,
   "metadata": {},
   "outputs": [],
   "source": [
    "def power(x, y):\n",
    "    rack = x + 10\n",
    "    p = rack * (rack * y + SERIAL)\n",
    "    return ((p // 100) % 10) - 5\n",
    "\n",
    "cells = np.matrix([[power(x, y) for x in range(1, GRID_SIZE + 1)] for y in range(1, GRID_SIZE + 1)])"
   ]
  },
  {
   "cell_type": "code",
   "execution_count": 3,
   "metadata": {},
   "outputs": [],
   "source": [
    "def square(x, y, size):\n",
    "    if x > GRID_SIZE - size or y > GRID_SIZE - size:\n",
    "        return 0\n",
    "    return sum([cells[yc, xc] for xc in range(x, x + size) for yc in range(y, y + size)])\n",
    "\n",
    "def squares(size):\n",
    "    return np.matrix([[square(x, y, size) for x in range(GRID_SIZE)] for y in range(GRID_SIZE)])\n",
    "\n",
    "def square_max(size):\n",
    "    s = np.matrix(squares(size))\n",
    "    a = s.argmax()\n",
    "    y, x = np.unravel_index(a, s.shape)\n",
    "    val = s[y,x]\n",
    "    return x+1, y+1, val    "
   ]
  },
  {
   "cell_type": "code",
   "execution_count": 4,
   "metadata": {},
   "outputs": [
    {
     "name": "stdout",
     "output_type": "stream",
     "text": [
      "21,53: 29\n"
     ]
    }
   ],
   "source": [
    "# Part 1\n",
    "x, y, val = square_max(3)\n",
    "print(\"{},{}: {}\".format(x, y, val))"
   ]
  },
  {
   "cell_type": "code",
   "execution_count": 5,
   "metadata": {},
   "outputs": [
    {
     "name": "stdout",
     "output_type": "stream",
     "text": [
      "233,250,12: 121\n"
     ]
    }
   ],
   "source": [
    "# Part 2\n",
    "\n",
    "def bigger(x, y, square, size):\n",
    "    if x + size >= GRID_SIZE or y + size >= GRID_SIZE:\n",
    "        return 0\n",
    "    result = square\n",
    "    for i in range(size):\n",
    "        result += cells[y + size, x + i] + cells[y + i, x + size]\n",
    "    result += cells[y + size, x + size]\n",
    "    return result\n",
    "\n",
    "def find_max(squares):\n",
    "    a = squares.argmax()\n",
    "    y, x = np.unravel_index(a, squares.shape)\n",
    "    val = squares[y, x]\n",
    "    return x+1, y+1, val\n",
    "\n",
    "current = cells.copy()\n",
    "x_max, y_max, val_max = find_max(current)\n",
    "size_max = 1\n",
    "for size in range(1, 301):\n",
    "    current = np.matrix([[bigger(x, y, current[y, x], size) for x in range(GRID_SIZE - size)] for y in range(GRID_SIZE - size)])\n",
    "    x, y, val = find_max(current)\n",
    "    if val < val_max:\n",
    "        break\n",
    "    x_max, y_max, size_max, val_max = x, y, size + 1, val\n",
    "\n",
    "print(\"{},{},{}: {}\".format(x_max, y_max, size_max, val_max))"
   ]
  }
 ],
 "metadata": {
  "kernelspec": {
   "display_name": "Python 3",
   "language": "python",
   "name": "python3"
  },
  "language_info": {
   "codemirror_mode": {
    "name": "ipython",
    "version": 3
   },
   "file_extension": ".py",
   "mimetype": "text/x-python",
   "name": "python",
   "nbconvert_exporter": "python",
   "pygments_lexer": "ipython3",
   "version": "3.6.7"
  }
 },
 "nbformat": 4,
 "nbformat_minor": 2
}
