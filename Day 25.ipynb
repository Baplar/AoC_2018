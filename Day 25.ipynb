{
 "cells": [
  {
   "cell_type": "code",
   "execution_count": 1,
   "metadata": {},
   "outputs": [],
   "source": [
    "import re\n",
    "parser = re.compile(r\"(.+),(.+),(.+),(.+)\")"
   ]
  },
  {
   "cell_type": "code",
   "execution_count": 2,
   "metadata": {},
   "outputs": [],
   "source": [
    "points = []\n",
    "with open(\"Input/25.txt\") as file:\n",
    "    for line in file:\n",
    "        point = parser.match(line).groups()\n",
    "        point = tuple(int(x) for x in point)\n",
    "        points.append(point)"
   ]
  },
  {
   "cell_type": "code",
   "execution_count": 3,
   "metadata": {},
   "outputs": [],
   "source": [
    "def dist(p1, p2):\n",
    "    return sum(abs(x1 - x2) for x1, x2 in zip(p1, p2))"
   ]
  },
  {
   "cell_type": "code",
   "execution_count": 4,
   "metadata": {},
   "outputs": [
    {
     "name": "stdout",
     "output_type": "stream",
     "text": [
      "Part 1: 377\n"
     ]
    }
   ],
   "source": [
    "constellations = 0\n",
    "while points:\n",
    "    constellations += 1\n",
    "    nxt = [points.pop()]\n",
    "    while nxt:\n",
    "        current = nxt.pop()\n",
    "        nxt_index = [i for i, p in enumerate(points) if dist(current, p) <= 3]\n",
    "        for i in reversed(nxt_index):\n",
    "            new = points.pop(i)\n",
    "            nxt.append(new)\n",
    "print(\"Part 1: {}\".format(constellations))"
   ]
  }
 ],
 "metadata": {
  "kernelspec": {
   "display_name": "Python 3",
   "language": "python",
   "name": "python3"
  },
  "language_info": {
   "codemirror_mode": {
    "name": "ipython",
    "version": 3
   },
   "file_extension": ".py",
   "mimetype": "text/x-python",
   "name": "python",
   "nbconvert_exporter": "python",
   "pygments_lexer": "ipython3",
   "version": "3.6.7"
  }
 },
 "nbformat": 4,
 "nbformat_minor": 2
}
