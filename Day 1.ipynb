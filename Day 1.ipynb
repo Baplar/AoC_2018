{
 "cells": [
  {
   "cell_type": "code",
   "execution_count": 1,
   "metadata": {},
   "outputs": [
    {
     "name": "stdout",
     "output_type": "stream",
     "text": [
      "423\n"
     ]
    }
   ],
   "source": [
    "# Part 1\n",
    "result = 0\n",
    "\n",
    "with open(\"Input/1.txt\") as file:\n",
    "    for line in file:\n",
    "        if line[0] == '+':\n",
    "            result += int(line[1:])\n",
    "        elif line[0] == '-':\n",
    "            result -= int(line[1:])\n",
    "\n",
    "print(result)"
   ]
  },
  {
   "cell_type": "code",
   "execution_count": 2,
   "metadata": {},
   "outputs": [
    {
     "name": "stdout",
     "output_type": "stream",
     "text": [
      "61126\n"
     ]
    }
   ],
   "source": [
    "# Part 2\n",
    "lines = \"\"\n",
    "with open(\"Input/1.txt\") as file:\n",
    "    lines = file.readlines()\n",
    "\n",
    "def find_first_repeated_frequency(lines):\n",
    "    result = 0\n",
    "    freqs = {0: True}\n",
    "    while True:\n",
    "        for line in lines:\n",
    "            if line[0] == '+':\n",
    "                result += int(line[1:])\n",
    "            elif line[0] == '-':\n",
    "                result -= int(line[1:])\n",
    "            if result in freqs:\n",
    "                return result\n",
    "            freqs[result] = True\n",
    "\n",
    "print(find_first_repeated_frequency(lines))"
   ]
  },
  {
   "cell_type": "code",
   "execution_count": null,
   "metadata": {},
   "outputs": [],
   "source": []
  }
 ],
 "metadata": {
  "kernelspec": {
   "display_name": "Python 3",
   "language": "python",
   "name": "python3"
  },
  "language_info": {
   "codemirror_mode": {
    "name": "ipython",
    "version": 3
   },
   "file_extension": ".py",
   "mimetype": "text/x-python",
   "name": "python",
   "nbconvert_exporter": "python",
   "pygments_lexer": "ipython3",
   "version": "3.6.7"
  }
 },
 "nbformat": 4,
 "nbformat_minor": 2
}
