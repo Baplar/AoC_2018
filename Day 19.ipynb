{
 "cells": [
  {
   "cell_type": "code",
   "execution_count": 1,
   "metadata": {},
   "outputs": [],
   "source": [
    "# Registers (taken from day 16)\n",
    "class Registers:\n",
    "    def __init__(self, regs=None):\n",
    "        if not regs:\n",
    "            regs = [0, 0, 0, 0, 0, 0]\n",
    "        self.regs = regs.copy()\n",
    "    \n",
    "    def addr(self, a, b, c):\n",
    "        self.regs[c] = self.regs[a] + self.regs[b]\n",
    "\n",
    "    def addi(self, a, b, c):\n",
    "        self.regs[c] = self.regs[a] + b\n",
    "\n",
    "    def mulr(self, a, b, c):\n",
    "        self.regs[c] = self.regs[a] * self.regs[b]\n",
    "\n",
    "    def muli(self, a, b, c):\n",
    "        self.regs[c] = self.regs[a] * b\n",
    "\n",
    "    def banr(self, a, b, c):\n",
    "        self.regs[c] = self.regs[a] & self.regs[b]\n",
    "\n",
    "    def bani(self, a, b, c):\n",
    "        self.regs[c] = self.regs[a] & b\n",
    "\n",
    "    def borr(self, a, b, c):\n",
    "        self.regs[c] = self.regs[a] | self.regs[b]\n",
    "\n",
    "    def bori(self, a, b, c):\n",
    "        self.regs[c] = self.regs[a] | b\n",
    "\n",
    "    def setr(self, a, b, c):\n",
    "        self.regs[c] = self.regs[a]\n",
    "\n",
    "    def seti(self, a, b, c):\n",
    "        self.regs[c] = a\n",
    "\n",
    "    def gtir(self, a, b, c):\n",
    "        self.regs[c] = 1 if a > self.regs[b] else 0\n",
    "\n",
    "    def gtri(self, a, b, c):\n",
    "        self.regs[c] = 1 if self.regs[a] > b else 0\n",
    "\n",
    "    def gtrr(self, a, b, c):\n",
    "        self.regs[c] = 1 if self.regs[a] > self.regs[b] else 0\n",
    "\n",
    "    def eqir(self, a, b, c):\n",
    "        self.regs[c] = 1 if a == self.regs[b] else 0\n",
    "\n",
    "    def eqri(self, a, b, c):\n",
    "        self.regs[c] = 1 if self.regs[a] == b else 0\n",
    "\n",
    "    def eqrr(self, a, b, c):\n",
    "        self.regs[c] = 1 if self.regs[a] == self.regs[b] else 0\n",
    "        \n",
    "    def __getitem__(self, reg):\n",
    "        return self.regs[reg]\n",
    "\n",
    "    def __setitem__(self, reg, val):\n",
    "        self.regs[reg] = val\n",
    "\n",
    "operators = {\n",
    "    \"addr\": Registers.addr,\n",
    "    \"addi\": Registers.addi,\n",
    "    \"mulr\": Registers.mulr,\n",
    "    \"muli\": Registers.muli,\n",
    "    \"banr\": Registers.banr,\n",
    "    \"bani\": Registers.bani,\n",
    "    \"borr\": Registers.borr,\n",
    "    \"bori\": Registers.bori,\n",
    "    \"setr\": Registers.setr,\n",
    "    \"seti\": Registers.seti,\n",
    "    \"gtir\": Registers.gtir,\n",
    "    \"gtri\": Registers.gtri,\n",
    "    \"gtrr\": Registers.gtrr,\n",
    "    \"eqir\": Registers.eqir,\n",
    "    \"eqri\": Registers.eqri,\n",
    "    \"eqrr\": Registers.eqrr\n",
    "}"
   ]
  },
  {
   "cell_type": "code",
   "execution_count": 2,
   "metadata": {},
   "outputs": [],
   "source": [
    "class Program:\n",
    "    def __init__(self, ip_reg, program, regs=None):\n",
    "        self.ip_reg = ip_reg\n",
    "        self.program = program\n",
    "        self.regs = Registers(regs)\n",
    "        self.ip = self.regs[self.ip_reg]\n",
    "        \n",
    "    def step(self):\n",
    "        if self.ip < 0 or self.ip >= len(self.program):\n",
    "            return False\n",
    "        self.regs[self.ip_reg] = self.ip\n",
    "        op, a, b, c = self.program[self.ip]\n",
    "        op(self.regs, a, b, c)\n",
    "        if c == self.ip_reg:\n",
    "            self.ip = self.regs[self.ip_reg]\n",
    "        self.ip += 1\n",
    "        return True\n",
    "    \n",
    "    def run(self):\n",
    "        while self.step():\n",
    "            pass"
   ]
  },
  {
   "cell_type": "code",
   "execution_count": 3,
   "metadata": {},
   "outputs": [],
   "source": [
    "import re\n",
    "# Input\n",
    "parser_ip = re.compile(r\"#ip (\\d)\")\n",
    "parser_instruction = re.compile(r\"(\\w+) (\\d+) (\\d+) (\\d+)\")"
   ]
  },
  {
   "cell_type": "code",
   "execution_count": 4,
   "metadata": {},
   "outputs": [
    {
     "name": "stdout",
     "output_type": "stream",
     "text": [
      "Part 1 (brute force): 1080\n"
     ]
    }
   ],
   "source": [
    "# Part 1\n",
    "program = []\n",
    "with open(\"Input/19.txt\") as file:\n",
    "    ip_reg = int(parser_ip.match(file.readline()).group(1))\n",
    "    for line in file:\n",
    "        opcode, a, b, c = parser_instruction.match(line).groups()\n",
    "        a, b, c = int(a), int(b), int(c)\n",
    "        op = operators[opcode]\n",
    "        program.append((op, a, b, c))\n",
    "\n",
    "program = Program(ip_reg, program)\n",
    "program.run()\n",
    "print(\"Part 1 (brute force): {}\".format(program.regs[0]))"
   ]
  },
  {
   "cell_type": "code",
   "execution_count": 5,
   "metadata": {},
   "outputs": [
    {
     "name": "stdout",
     "output_type": "stream",
     "text": [
      "Brute forcing part 2 is untractable.\n"
     ]
    }
   ],
   "source": [
    "program = []\n",
    "with open(\"Input/19.txt\") as file:\n",
    "    ip_reg = int(parser_ip.match(file.readline()).group(1))\n",
    "    for line in file:\n",
    "        opcode, a, b, c = parser_instruction.match(line).groups()\n",
    "        a, b, c = int(a), int(b), int(c)\n",
    "        op = operators[opcode]\n",
    "        program.append((op, a, b, c))\n",
    "\n",
    "program = Program(ip_reg, program)\n",
    "program.regs[0] = 1\n",
    "\n",
    "## Brute forcing it is untractable\n",
    "# program.run()\n",
    "# print(\"Part 2: {}\".format(program.regs[0]))\n",
    "print(\"Brute forcing part 2 is untractable.\")"
   ]
  },
  {
   "cell_type": "markdown",
   "metadata": {},
   "source": [
    "A manual analysis of the program reveals that it is a brute-force algorithm that computes the sum of all prime factors of a given input.\n",
    "This is the corresponding pseudo-code, after simplification of all terms:"
   ]
  },
  {
   "cell_type": "raw",
   "metadata": {},
   "source": [
    "x2 = 1003\n",
    "if part2:\n",
    "    x2 = 10551403\n",
    "for x3 in 1 .. x2:\n",
    "    for x5 in 1 .. x2:\n",
    "        if x3 * x5 == x2:\n",
    "            x0 += x3"
   ]
  },
  {
   "cell_type": "markdown",
   "metadata": {},
   "source": [
    "I used Wolfram Alpha to get the prime factorizations of these two numbers:\n",
    "1003 = 17 * 59\n",
    "10551403 = 19 * 555337\n",
    "Hence the results:"
   ]
  },
  {
   "cell_type": "code",
   "execution_count": 6,
   "metadata": {},
   "outputs": [
    {
     "name": "stdout",
     "output_type": "stream",
     "text": [
      "Part 1 (direct): 1080\n",
      "Part 2 (direct): 11106760\n"
     ]
    }
   ],
   "source": [
    "print(\"Part 1 (direct): {}\".format(1 + 17 + 59 + 1003))\n",
    "print(\"Part 2 (direct): {}\".format(1 + 19 + 555337 + 10551403))"
   ]
  }
 ],
 "metadata": {
  "kernelspec": {
   "display_name": "Python 3",
   "language": "python",
   "name": "python3"
  },
  "language_info": {
   "codemirror_mode": {
    "name": "ipython",
    "version": 3
   },
   "file_extension": ".py",
   "mimetype": "text/x-python",
   "name": "python",
   "nbconvert_exporter": "python",
   "pygments_lexer": "ipython3",
   "version": "3.6.7"
  }
 },
 "nbformat": 4,
 "nbformat_minor": 2
}
