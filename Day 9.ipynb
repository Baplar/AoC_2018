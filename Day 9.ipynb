{
 "cells": [
  {
   "cell_type": "code",
   "execution_count": 1,
   "metadata": {},
   "outputs": [],
   "source": [
    "import re\n",
    "# Input parsing\n",
    "parser = re.compile(r\"(\\d+) players; last marble is worth (\\d+) points\")\n",
    "with open(\"Input/9.txt\") as file:\n",
    "    players, marbles = parser.match(file.readline()).groups()\n",
    "    players = int(players)\n",
    "    marbles = int(marbles)"
   ]
  },
  {
   "cell_type": "code",
   "execution_count": 2,
   "metadata": {},
   "outputs": [],
   "source": [
    "from collections import deque\n",
    "\n",
    "class Game:\n",
    "    def __init__(self, players, marbles):\n",
    "        self.circle = deque([0])\n",
    "        self.players = players\n",
    "        self.scores = [0 for _ in range(players)]\n",
    "        self.marbles = marbles\n",
    "        self.marble = 1\n",
    "        self.player = 0\n",
    "    \n",
    "    def turn(self):\n",
    "        if self.marble > self.marbles:\n",
    "            return False\n",
    "        if self.marble % 23 == 0:\n",
    "            self.scores[self.player] += self.marble\n",
    "            self.circle.rotate(-7)\n",
    "            removed = self.circle.pop()\n",
    "            self.scores[self.player] += removed\n",
    "        else:\n",
    "            self.circle.rotate(2)\n",
    "            self.circle.append(self.marble)\n",
    "        self.marble += 1\n",
    "        self.player = (self.player + 1) % self.players\n",
    "        return True\n",
    "    \n",
    "    def play_all(self):\n",
    "        while self.turn():\n",
    "            pass"
   ]
  },
  {
   "cell_type": "code",
   "execution_count": 3,
   "metadata": {},
   "outputs": [
    {
     "name": "stdout",
     "output_type": "stream",
     "text": [
      "422748\n"
     ]
    }
   ],
   "source": [
    "# Part 1\n",
    "game = Game(players, marbles)\n",
    "game.play_all()\n",
    "print(max(game.scores))"
   ]
  },
  {
   "cell_type": "code",
   "execution_count": 4,
   "metadata": {},
   "outputs": [
    {
     "name": "stdout",
     "output_type": "stream",
     "text": [
      "3412522480\n"
     ]
    }
   ],
   "source": [
    "# Part 2\n",
    "game = Game(players, 100 * marbles)\n",
    "game.play_all()\n",
    "print(max(game.scores))"
   ]
  }
 ],
 "metadata": {
  "kernelspec": {
   "display_name": "Python 3",
   "language": "python",
   "name": "python3"
  },
  "language_info": {
   "codemirror_mode": {
    "name": "ipython",
    "version": 3
   },
   "file_extension": ".py",
   "mimetype": "text/x-python",
   "name": "python",
   "nbconvert_exporter": "python",
   "pygments_lexer": "ipython3",
   "version": "3.6.7"
  }
 },
 "nbformat": 4,
 "nbformat_minor": 2
}
