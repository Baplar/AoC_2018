{
 "cells": [
  {
   "cell_type": "code",
   "execution_count": 1,
   "metadata": {},
   "outputs": [],
   "source": [
    "# Input\n",
    "depth = 7740\n",
    "target = (12, 763)"
   ]
  },
  {
   "cell_type": "code",
   "execution_count": 2,
   "metadata": {},
   "outputs": [],
   "source": [
    "from functools import lru_cache\n",
    "\n",
    "def geological_index(pos):\n",
    "    if pos == target:\n",
    "        return 0\n",
    "    x, y = pos\n",
    "    if x < 0 or y < 0:\n",
    "        return 0\n",
    "    if y == 0:\n",
    "        return (x * 16807) % 20183\n",
    "    if x == 0:\n",
    "        return (y * 48271) % 20183\n",
    "    return (erosion_level((x-1, y)) * erosion_level((x, y-1))) % 20183\n",
    "\n",
    "@lru_cache(maxsize=None)\n",
    "def erosion_level(pos):\n",
    "    return (geological_index(pos) + depth) % 20183\n",
    "\n",
    "def region_type(pos):\n",
    "    return erosion_level(pos) % 3"
   ]
  },
  {
   "cell_type": "code",
   "execution_count": 3,
   "metadata": {},
   "outputs": [
    {
     "name": "stdout",
     "output_type": "stream",
     "text": [
      "Part 1: 9899\n"
     ]
    }
   ],
   "source": [
    "risk = 0\n",
    "for y in range(target[1] + 1):\n",
    "    for x in range(target[0] + 1):\n",
    "        risk += region_type((x, y)) % 3\n",
    "\n",
    "print(\"Part 1: {}\".format(risk))"
   ]
  },
  {
   "cell_type": "code",
   "execution_count": 4,
   "metadata": {},
   "outputs": [],
   "source": [
    "import heapq\n",
    "\n",
    "def heuristic(pos):\n",
    "    return abs(target[0] - pos[0]) + abs(target[1] - pos[1])\n",
    "\n",
    "def neighbors(pos):\n",
    "    x, y = pos\n",
    "    result = [(x+1, y), (x, y+1)]\n",
    "    if x > 0:\n",
    "        result.append((x-1, y))\n",
    "    if y > 0:\n",
    "        result.append((x, y-1))\n",
    "    return result\n",
    "\n",
    "def move(pos, neighbor, tool):\n",
    "    c1 = region_type(pos)\n",
    "    c2 = region_type(neighbor)\n",
    "    cost = 1\n",
    "    if tool == c1 or tool == c2:\n",
    "        # We need to change the tool\n",
    "        tool = [x for x in range(3) if x != c1 and x != c2][0]\n",
    "        cost += 7\n",
    "    return cost, tool\n",
    "\n",
    "def find_path():\n",
    "    done = set()\n",
    "    queue = []\n",
    "    start = (0, 0)\n",
    "    # {(Position, current tool): (distance from start, previous node)}\n",
    "    paths = {(start, 1): (0, None)}\n",
    "    heapq.heappush(queue, (heuristic(start), start, 1))\n",
    "    \n",
    "    results = []\n",
    "    \n",
    "    while queue:\n",
    "        h, pos, tool = heapq.heappop(queue)\n",
    "        cost, previous = paths[(pos, tool)]\n",
    "        done.add((pos, tool))\n",
    "        if pos == target:\n",
    "            return cost\n",
    "\n",
    "        for neighbor in neighbors(pos):\n",
    "            if neighbor in done:\n",
    "                continue\n",
    "            move_cost, new_tool = move(pos, neighbor, tool)\n",
    "            new_cost = cost + move_cost\n",
    "            if neighbor == target and tool != 1:\n",
    "                new_cost += 7\n",
    "            if (neighbor, new_tool) in paths:\n",
    "                old_cost, old_previous = paths[(neighbor, new_tool)]\n",
    "                if old_cost <= new_cost:\n",
    "                    continue\n",
    "            \n",
    "            paths[(neighbor, new_tool)] = (new_cost, pos)\n",
    "            heapq.heappush(queue, (new_cost + heuristic(neighbor), neighbor, new_tool))"
   ]
  },
  {
   "cell_type": "code",
   "execution_count": 5,
   "metadata": {},
   "outputs": [
    {
     "name": "stdout",
     "output_type": "stream",
     "text": [
      "Part 2: 1051\n"
     ]
    }
   ],
   "source": [
    "print(\"Part 2: {}\".format(find_path()))"
   ]
  }
 ],
 "metadata": {
  "kernelspec": {
   "display_name": "Python 3",
   "language": "python",
   "name": "python3"
  },
  "language_info": {
   "codemirror_mode": {
    "name": "ipython",
    "version": 3
   },
   "file_extension": ".py",
   "mimetype": "text/x-python",
   "name": "python",
   "nbconvert_exporter": "python",
   "pygments_lexer": "ipython3",
   "version": "3.6.7"
  }
 },
 "nbformat": 4,
 "nbformat_minor": 2
}
