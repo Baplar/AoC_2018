{
 "cells": [
  {
   "cell_type": "code",
   "execution_count": 1,
   "metadata": {},
   "outputs": [],
   "source": [
    "from collections import deque\n",
    "\n",
    "# Reading file\n",
    "data = None\n",
    "with open(\"Input/8.txt\") as file:\n",
    "    data = deque([int(x) for x in file.readline().split()])"
   ]
  },
  {
   "cell_type": "code",
   "execution_count": 2,
   "metadata": {},
   "outputs": [],
   "source": [
    "# Tree node class\n",
    "class Tree:\n",
    "    def __init__(self, children, metadata):\n",
    "        # Parse header\n",
    "        self.children = children\n",
    "        self.metadata = metadata\n",
    "        \n",
    "    def __str__(self, level=0):\n",
    "        result = \"\"\n",
    "        for child in self.children:\n",
    "            result += child.__str__(level + 1)\n",
    "        result += \"|\" * level + self.metadata.__str__() + \"\\n\"\n",
    "        return result\n",
    "    \n",
    "    def tree_sum(self):\n",
    "        results_children = [child.tree_sum() for child in self.children]\n",
    "        return sum(results_children) + sum(self.metadata)\n",
    "    \n",
    "    def tree_check(self):\n",
    "        results_children = [child.tree_check() for child in self.children]\n",
    "        if not results_children:\n",
    "            return sum(self.metadata)\n",
    "        result = 0\n",
    "        for index in self.metadata:\n",
    "            if index == 0 or index > len(results_children):\n",
    "                continue\n",
    "            result += results_children[index - 1]\n",
    "        return result"
   ]
  },
  {
   "cell_type": "code",
   "execution_count": 3,
   "metadata": {},
   "outputs": [],
   "source": [
    "# Parsing\n",
    "def parse_tree(data):\n",
    "    nb_children = data.popleft()\n",
    "    nb_metadata = data.popleft()\n",
    "    children = []\n",
    "    metadata = []\n",
    "    for _ in range(nb_children):\n",
    "        # Parse children\n",
    "        data, child = parse_tree(data)\n",
    "        children.append(child)\n",
    "    for _ in range(nb_metadata):\n",
    "        # Parse metadata\n",
    "        metadata.append(data.popleft())\n",
    "    return data, Tree(children, metadata)\n",
    "\n",
    "_, tree = parse_tree(data)"
   ]
  },
  {
   "cell_type": "code",
   "execution_count": 4,
   "metadata": {},
   "outputs": [
    {
     "name": "stdout",
     "output_type": "stream",
     "text": [
      "35852\n"
     ]
    }
   ],
   "source": [
    "# Part 1\n",
    "print(tree.tree_sum())"
   ]
  },
  {
   "cell_type": "code",
   "execution_count": 5,
   "metadata": {},
   "outputs": [
    {
     "name": "stdout",
     "output_type": "stream",
     "text": [
      "33422\n"
     ]
    }
   ],
   "source": [
    "# Part 2\n",
    "print(tree.tree_check())"
   ]
  }
 ],
 "metadata": {
  "kernelspec": {
   "display_name": "Python 3",
   "language": "python",
   "name": "python3"
  },
  "language_info": {
   "codemirror_mode": {
    "name": "ipython",
    "version": 3
   },
   "file_extension": ".py",
   "mimetype": "text/x-python",
   "name": "python",
   "nbconvert_exporter": "python",
   "pygments_lexer": "ipython3",
   "version": "3.6.7"
  }
 },
 "nbformat": 4,
 "nbformat_minor": 2
}
