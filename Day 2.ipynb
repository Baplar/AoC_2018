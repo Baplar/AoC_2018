{
 "cells": [
  {
   "cell_type": "code",
   "execution_count": 1,
   "metadata": {},
   "outputs": [
    {
     "name": "stdout",
     "output_type": "stream",
     "text": [
      "6972\n"
     ]
    }
   ],
   "source": [
    "from collections import defaultdict\n",
    "\n",
    "# Part 1\n",
    "\n",
    "doubles = 0\n",
    "triples = 0\n",
    "\n",
    "with open(\"Input/2.txt\") as file:\n",
    "    for line in file:\n",
    "        # Count each letter\n",
    "        counts = defaultdict(int)\n",
    "        for letter in line:\n",
    "            counts[letter] += 1\n",
    "            \n",
    "        # Find doubles and triples\n",
    "        add_double = False\n",
    "        add_triple = False\n",
    "        for _, c in counts.items():\n",
    "            if c == 2:\n",
    "                add_double = True\n",
    "            elif c == 3:\n",
    "                add_triple = True\n",
    "        \n",
    "        # Increment accordingly\n",
    "        if add_double:\n",
    "            doubles += 1\n",
    "        if add_triple:\n",
    "            triples += 1\n",
    "\n",
    "checksum = doubles * triples\n",
    "\n",
    "print(checksum)"
   ]
  },
  {
   "cell_type": "code",
   "execution_count": 2,
   "metadata": {},
   "outputs": [
    {
     "name": "stdout",
     "output_type": "stream",
     "text": [
      "aixwcbzrmdvpsjfgllthdyoqe\n",
      "\n"
     ]
    }
   ],
   "source": [
    "# Part 2\n",
    "\n",
    "with open(\"Input/2.txt\") as file:\n",
    "    lines = file.readlines()\n",
    "\n",
    "for i in range(len(lines[0])):\n",
    "    # Remove i-th letter of each id\n",
    "    counts = {}\n",
    "    for line in lines:\n",
    "        line_i = line[:i] + line[i+1:]\n",
    "        if line_i in counts:\n",
    "            print(line_i)\n",
    "            break\n",
    "        counts[line_i] = True"
   ]
  }
 ],
 "metadata": {
  "kernelspec": {
   "display_name": "Python 3",
   "language": "python",
   "name": "python3"
  },
  "language_info": {
   "codemirror_mode": {
    "name": "ipython",
    "version": 3
   },
   "file_extension": ".py",
   "mimetype": "text/x-python",
   "name": "python",
   "nbconvert_exporter": "python",
   "pygments_lexer": "ipython3",
   "version": "3.6.7"
  }
 },
 "nbformat": 4,
 "nbformat_minor": 2
}
